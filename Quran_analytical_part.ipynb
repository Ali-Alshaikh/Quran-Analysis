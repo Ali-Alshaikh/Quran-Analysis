{
 "cells": [
  {
   "cell_type": "code",
   "execution_count": 2,
   "id": "44482c1e-e32f-43a5-85ea-b2bee6aa0efd",
   "metadata": {
    "editable": true,
    "slideshow": {
     "slide_type": "skip"
    },
    "tags": []
   },
   "outputs": [],
   "source": [
    "import pandas as pd\n",
    "import numpy as np\n",
    "import matplotlib.pyplot as plt\n",
    "import seaborn as sns"
   ]
  },
  {
   "cell_type": "code",
   "execution_count": 3,
   "id": "4dc9fffb-9caf-4b78-bca5-b8b351ebe6a4",
   "metadata": {
    "editable": true,
    "slideshow": {
     "slide_type": "skip"
    },
    "tags": []
   },
   "outputs": [],
   "source": [
    "df = pd.read_csv('main.csv')"
   ]
  },
  {
   "cell_type": "code",
   "execution_count": 4,
   "id": "aabbab89-023b-48e2-953b-36661cb08a6c",
   "metadata": {
    "editable": true,
    "slideshow": {
     "slide_type": "skip"
    },
    "tags": []
   },
   "outputs": [],
   "source": [
    "df = df.rename(columns={'Translation':'translation','Tafaseer - Tafsir al-Jalalayn': 'tafsir1', 'Tafaseer - Tanwir al-Miqbas min Tafsir Ibn Abbas':'tafsir2'})"
   ]
  },
  {
   "cell_type": "code",
   "execution_count": 5,
   "id": "d9df2cf1-c19a-42b7-bd90-4b04af44b225",
   "metadata": {},
   "outputs": [
    {
     "data": {
      "text/plain": [
       "(6236, 19)"
      ]
     },
     "execution_count": 5,
     "metadata": {},
     "output_type": "execute_result"
    }
   ],
   "source": [
    "df.shape"
   ]
  },
  {
   "cell_type": "code",
   "execution_count": 6,
   "id": "fb2fe1ab-7789-4f15-90d3-d9de959ec0ac",
   "metadata": {},
   "outputs": [
    {
     "data": {
      "text/html": [
       "<div>\n",
       "<style scoped>\n",
       "    .dataframe tbody tr th:only-of-type {\n",
       "        vertical-align: middle;\n",
       "    }\n",
       "\n",
       "    .dataframe tbody tr th {\n",
       "        vertical-align: top;\n",
       "    }\n",
       "\n",
       "    .dataframe thead th {\n",
       "        text-align: right;\n",
       "    }\n",
       "</style>\n",
       "<table border=\"1\" class=\"dataframe\">\n",
       "  <thead>\n",
       "    <tr style=\"text-align: right;\">\n",
       "      <th></th>\n",
       "      <th>Surah</th>\n",
       "      <th>Ayah</th>\n",
       "      <th>translation</th>\n",
       "      <th>quran_Tashkeel</th>\n",
       "      <th>quran_line</th>\n",
       "      <th>surah_no</th>\n",
       "      <th>surah_name_en</th>\n",
       "      <th>surah_name_ar</th>\n",
       "      <th>surah_name_roman</th>\n",
       "      <th>juz_no</th>\n",
       "      <th>hizb_quarter</th>\n",
       "      <th>total_ayah_surah</th>\n",
       "      <th>place_of_revelation</th>\n",
       "      <th>no_of_word_ayah</th>\n",
       "      <th>list_of_words</th>\n",
       "      <th>tafsir1</th>\n",
       "      <th>tafsir2</th>\n",
       "      <th>revelation_order</th>\n",
       "      <th>hizb</th>\n",
       "    </tr>\n",
       "  </thead>\n",
       "  <tbody>\n",
       "    <tr>\n",
       "      <th>0</th>\n",
       "      <td>1</td>\n",
       "      <td>1</td>\n",
       "      <td>In the name of Allah, the Entirely Merciful, t...</td>\n",
       "      <td>بِسْمِ اللَّهِ الرَّحْمَـٰنِ الرَّحِيمِ</td>\n",
       "      <td>بسم الله الرحمن الرحيم</td>\n",
       "      <td>1</td>\n",
       "      <td>The Opener</td>\n",
       "      <td>الفاتحة</td>\n",
       "      <td>Al-Fatihah</td>\n",
       "      <td>1</td>\n",
       "      <td>1</td>\n",
       "      <td>7</td>\n",
       "      <td>Meccan</td>\n",
       "      <td>4</td>\n",
       "      <td>[بِسْمِ,ٱللَّهِ,ٱلرَّحْمَٰنِ,ٱلرَّحِيمِ]</td>\n",
       "      <td>In the Name of God the Compassionate the Merciful</td>\n",
       "      <td>In the name of Allah, the Beneficent, the Merc...</td>\n",
       "      <td>5</td>\n",
       "      <td>1</td>\n",
       "    </tr>\n",
       "    <tr>\n",
       "      <th>1</th>\n",
       "      <td>1</td>\n",
       "      <td>2</td>\n",
       "      <td>[All] praise is [due] to Allah, Lord of the wo...</td>\n",
       "      <td>الْحَمْدُ لِلَّهِ رَبِّ الْعَالَمِينَ</td>\n",
       "      <td>الحمد لله رب العالمين</td>\n",
       "      <td>1</td>\n",
       "      <td>The Opener</td>\n",
       "      <td>الفاتحة</td>\n",
       "      <td>Al-Fatihah</td>\n",
       "      <td>1</td>\n",
       "      <td>1</td>\n",
       "      <td>7</td>\n",
       "      <td>Meccan</td>\n",
       "      <td>4</td>\n",
       "      <td>[ٱلْحَمْدُ,لِلَّهِ,رَبِّ,ٱلْعَٰلَمِينَ]</td>\n",
       "      <td>In the Name of God the name of a thing is that...</td>\n",
       "      <td>And on his authority it is related that Ibn 'A...</td>\n",
       "      <td>5</td>\n",
       "      <td>1</td>\n",
       "    </tr>\n",
       "    <tr>\n",
       "      <th>2</th>\n",
       "      <td>1</td>\n",
       "      <td>3</td>\n",
       "      <td>The Entirely Merciful, the Especially Merciful,</td>\n",
       "      <td>الرَّحْمَـٰنِ الرَّحِيمِ</td>\n",
       "      <td>الرحمن الرحيم</td>\n",
       "      <td>1</td>\n",
       "      <td>The Opener</td>\n",
       "      <td>الفاتحة</td>\n",
       "      <td>Al-Fatihah</td>\n",
       "      <td>1</td>\n",
       "      <td>1</td>\n",
       "      <td>7</td>\n",
       "      <td>Meccan</td>\n",
       "      <td>2</td>\n",
       "      <td>[ٱلرَّحْمَٰنِ,ٱلرَّحِيمِ]</td>\n",
       "      <td>The Compassionate the Merciful that is to say ...</td>\n",
       "      <td>(The Beneficent) the Gentle. (The Merciful) th...</td>\n",
       "      <td>5</td>\n",
       "      <td>1</td>\n",
       "    </tr>\n",
       "    <tr>\n",
       "      <th>3</th>\n",
       "      <td>1</td>\n",
       "      <td>4</td>\n",
       "      <td>Sovereign of the Day of Recompense.</td>\n",
       "      <td>مَالِكِ يَوْمِ الدِّينِ</td>\n",
       "      <td>مالك يوم الدين</td>\n",
       "      <td>1</td>\n",
       "      <td>The Opener</td>\n",
       "      <td>الفاتحة</td>\n",
       "      <td>Al-Fatihah</td>\n",
       "      <td>1</td>\n",
       "      <td>1</td>\n",
       "      <td>7</td>\n",
       "      <td>Meccan</td>\n",
       "      <td>3</td>\n",
       "      <td>[مَٰلِكِ,يَوْمِ,ٱلدِّينِ]</td>\n",
       "      <td>Master of the Day of Judgement that is the day...</td>\n",
       "      <td>(Owner of the Day of Judgement) the Arbitrator...</td>\n",
       "      <td>5</td>\n",
       "      <td>1</td>\n",
       "    </tr>\n",
       "    <tr>\n",
       "      <th>4</th>\n",
       "      <td>1</td>\n",
       "      <td>5</td>\n",
       "      <td>It is You we worship and You we ask for help.</td>\n",
       "      <td>إِيَّاكَ نَعْبُدُ وَإِيَّاكَ نَسْتَعِينُ</td>\n",
       "      <td>إياك نعبد وإياك نستعين</td>\n",
       "      <td>1</td>\n",
       "      <td>The Opener</td>\n",
       "      <td>الفاتحة</td>\n",
       "      <td>Al-Fatihah</td>\n",
       "      <td>1</td>\n",
       "      <td>1</td>\n",
       "      <td>7</td>\n",
       "      <td>Meccan</td>\n",
       "      <td>4</td>\n",
       "      <td>[إِيَّاكَ,نَعْبُدُ,وَإِيَّاكَ,نَسْتَعِينُ]</td>\n",
       "      <td>You alone we worship and You alone we ask for ...</td>\n",
       "      <td>(Thee (alone) we worship), we turn to you as t...</td>\n",
       "      <td>5</td>\n",
       "      <td>1</td>\n",
       "    </tr>\n",
       "    <tr>\n",
       "      <th>...</th>\n",
       "      <td>...</td>\n",
       "      <td>...</td>\n",
       "      <td>...</td>\n",
       "      <td>...</td>\n",
       "      <td>...</td>\n",
       "      <td>...</td>\n",
       "      <td>...</td>\n",
       "      <td>...</td>\n",
       "      <td>...</td>\n",
       "      <td>...</td>\n",
       "      <td>...</td>\n",
       "      <td>...</td>\n",
       "      <td>...</td>\n",
       "      <td>...</td>\n",
       "      <td>...</td>\n",
       "      <td>...</td>\n",
       "      <td>...</td>\n",
       "      <td>...</td>\n",
       "      <td>...</td>\n",
       "    </tr>\n",
       "    <tr>\n",
       "      <th>6231</th>\n",
       "      <td>114</td>\n",
       "      <td>2</td>\n",
       "      <td>The Sovereign of mankind.</td>\n",
       "      <td>مَلِكِ النَّاسِ</td>\n",
       "      <td>ملك الناس</td>\n",
       "      <td>114</td>\n",
       "      <td>The Mankind</td>\n",
       "      <td>الناس</td>\n",
       "      <td>An-Nas</td>\n",
       "      <td>30</td>\n",
       "      <td>240</td>\n",
       "      <td>6</td>\n",
       "      <td>Meccan</td>\n",
       "      <td>2</td>\n",
       "      <td>[مَلِكِ,ٱلنَّاسِ]</td>\n",
       "      <td>the King of mankind</td>\n",
       "      <td>(The King of mankind) the King of the jinn and...</td>\n",
       "      <td>21</td>\n",
       "      <td>60</td>\n",
       "    </tr>\n",
       "    <tr>\n",
       "      <th>6232</th>\n",
       "      <td>114</td>\n",
       "      <td>3</td>\n",
       "      <td>The God of mankind,</td>\n",
       "      <td>إِلَـٰهِ النَّاسِ</td>\n",
       "      <td>إله الناس</td>\n",
       "      <td>114</td>\n",
       "      <td>The Mankind</td>\n",
       "      <td>الناس</td>\n",
       "      <td>An-Nas</td>\n",
       "      <td>30</td>\n",
       "      <td>240</td>\n",
       "      <td>6</td>\n",
       "      <td>Meccan</td>\n",
       "      <td>2</td>\n",
       "      <td>[إِلَٰهِ,ٱلنَّاسِ]</td>\n",
       "      <td>the God of mankind both maliki’l-nās and ilāhi...</td>\n",
       "      <td>(The God of mankind) the Creator of the jinn a...</td>\n",
       "      <td>21</td>\n",
       "      <td>60</td>\n",
       "    </tr>\n",
       "    <tr>\n",
       "      <th>6233</th>\n",
       "      <td>114</td>\n",
       "      <td>4</td>\n",
       "      <td>From the evil of the retreating whisperer -</td>\n",
       "      <td>مِنْ شَرِّ الْوَسْوَاسِ الْخَنَّاسِ</td>\n",
       "      <td>من شر الوسواس الخناس</td>\n",
       "      <td>114</td>\n",
       "      <td>The Mankind</td>\n",
       "      <td>الناس</td>\n",
       "      <td>An-Nas</td>\n",
       "      <td>30</td>\n",
       "      <td>240</td>\n",
       "      <td>6</td>\n",
       "      <td>Meccan</td>\n",
       "      <td>4</td>\n",
       "      <td>[مِن,شَرِّ,ٱلْوَسْوَاسِ,ٱلْخَنَّاسِ]</td>\n",
       "      <td>from the evil of the slinking whisperer Satan ...</td>\n",
       "      <td>(From the evil of the sneaking whisperer) i.e....</td>\n",
       "      <td>21</td>\n",
       "      <td>60</td>\n",
       "    </tr>\n",
       "    <tr>\n",
       "      <th>6234</th>\n",
       "      <td>114</td>\n",
       "      <td>5</td>\n",
       "      <td>Who whispers [evil] into the breasts of mankind -</td>\n",
       "      <td>الَّذِي يُوَسْوِسُ فِي صُدُورِ النَّاسِ</td>\n",
       "      <td>الذي يوسوس في صدور الناس</td>\n",
       "      <td>114</td>\n",
       "      <td>The Mankind</td>\n",
       "      <td>الناس</td>\n",
       "      <td>An-Nas</td>\n",
       "      <td>30</td>\n",
       "      <td>240</td>\n",
       "      <td>6</td>\n",
       "      <td>Meccan</td>\n",
       "      <td>5</td>\n",
       "      <td>[ٱلَّذِى,يُوَسْوِسُ,فِى,صُدُورِ,ٱلنَّاسِ]</td>\n",
       "      <td>who whispers in the breasts of mankind in thei...</td>\n",
       "      <td>(Who whispereth in the hearts of mankind) and ...</td>\n",
       "      <td>21</td>\n",
       "      <td>60</td>\n",
       "    </tr>\n",
       "    <tr>\n",
       "      <th>6235</th>\n",
       "      <td>114</td>\n",
       "      <td>6</td>\n",
       "      <td>From among the jinn and mankind.\"</td>\n",
       "      <td>مِنَ الْجِنَّةِ وَالنَّاسِ</td>\n",
       "      <td>من الجنة والناس</td>\n",
       "      <td>114</td>\n",
       "      <td>The Mankind</td>\n",
       "      <td>الناس</td>\n",
       "      <td>An-Nas</td>\n",
       "      <td>30</td>\n",
       "      <td>240</td>\n",
       "      <td>6</td>\n",
       "      <td>Meccan</td>\n",
       "      <td>5</td>\n",
       "      <td>[ٱلَّذِى,يُوَسْوِسُ,فِى,صُدُورِ,ٱلنَّاسِ]</td>\n",
       "      <td>of the jinn and mankind’ mina’l-jinnati wa’l-n...</td>\n",
       "      <td>(Of the jinn and of mankind) He says: Satan wh...</td>\n",
       "      <td>21</td>\n",
       "      <td>60</td>\n",
       "    </tr>\n",
       "  </tbody>\n",
       "</table>\n",
       "<p>6236 rows × 19 columns</p>\n",
       "</div>"
      ],
      "text/plain": [
       "      Surah  Ayah                                        translation  \\\n",
       "0         1     1  In the name of Allah, the Entirely Merciful, t...   \n",
       "1         1     2  [All] praise is [due] to Allah, Lord of the wo...   \n",
       "2         1     3    The Entirely Merciful, the Especially Merciful,   \n",
       "3         1     4                Sovereign of the Day of Recompense.   \n",
       "4         1     5      It is You we worship and You we ask for help.   \n",
       "...     ...   ...                                                ...   \n",
       "6231    114     2                          The Sovereign of mankind.   \n",
       "6232    114     3                                The God of mankind,   \n",
       "6233    114     4        From the evil of the retreating whisperer -   \n",
       "6234    114     5  Who whispers [evil] into the breasts of mankind -   \n",
       "6235    114     6                  From among the jinn and mankind.\"   \n",
       "\n",
       "                                quran_Tashkeel                quran_line  \\\n",
       "0      بِسْمِ اللَّهِ الرَّحْمَـٰنِ الرَّحِيمِ    بسم الله الرحمن الرحيم   \n",
       "1        الْحَمْدُ لِلَّهِ رَبِّ الْعَالَمِينَ     الحمد لله رب العالمين   \n",
       "2                     الرَّحْمَـٰنِ الرَّحِيمِ             الرحمن الرحيم   \n",
       "3                      مَالِكِ يَوْمِ الدِّينِ            مالك يوم الدين   \n",
       "4     إِيَّاكَ نَعْبُدُ وَإِيَّاكَ نَسْتَعِينُ    إياك نعبد وإياك نستعين   \n",
       "...                                        ...                       ...   \n",
       "6231                           مَلِكِ النَّاسِ                 ملك الناس   \n",
       "6232                         إِلَـٰهِ النَّاسِ                 إله الناس   \n",
       "6233       مِنْ شَرِّ الْوَسْوَاسِ الْخَنَّاسِ      من شر الوسواس الخناس   \n",
       "6234   الَّذِي يُوَسْوِسُ فِي صُدُورِ النَّاسِ  الذي يوسوس في صدور الناس   \n",
       "6235                مِنَ الْجِنَّةِ وَالنَّاسِ           من الجنة والناس   \n",
       "\n",
       "      surah_no surah_name_en surah_name_ar surah_name_roman  juz_no  \\\n",
       "0            1    The Opener       الفاتحة       Al-Fatihah       1   \n",
       "1            1    The Opener       الفاتحة       Al-Fatihah       1   \n",
       "2            1    The Opener       الفاتحة       Al-Fatihah       1   \n",
       "3            1    The Opener       الفاتحة       Al-Fatihah       1   \n",
       "4            1    The Opener       الفاتحة       Al-Fatihah       1   \n",
       "...        ...           ...           ...              ...     ...   \n",
       "6231       114   The Mankind         الناس           An-Nas      30   \n",
       "6232       114   The Mankind         الناس           An-Nas      30   \n",
       "6233       114   The Mankind         الناس           An-Nas      30   \n",
       "6234       114   The Mankind         الناس           An-Nas      30   \n",
       "6235       114   The Mankind         الناس           An-Nas      30   \n",
       "\n",
       "      hizb_quarter  total_ayah_surah place_of_revelation  no_of_word_ayah  \\\n",
       "0                1                 7              Meccan                4   \n",
       "1                1                 7              Meccan                4   \n",
       "2                1                 7              Meccan                2   \n",
       "3                1                 7              Meccan                3   \n",
       "4                1                 7              Meccan                4   \n",
       "...            ...               ...                 ...              ...   \n",
       "6231           240                 6              Meccan                2   \n",
       "6232           240                 6              Meccan                2   \n",
       "6233           240                 6              Meccan                4   \n",
       "6234           240                 6              Meccan                5   \n",
       "6235           240                 6              Meccan                5   \n",
       "\n",
       "                                   list_of_words  \\\n",
       "0       [بِسْمِ,ٱللَّهِ,ٱلرَّحْمَٰنِ,ٱلرَّحِيمِ]   \n",
       "1        [ٱلْحَمْدُ,لِلَّهِ,رَبِّ,ٱلْعَٰلَمِينَ]   \n",
       "2                      [ٱلرَّحْمَٰنِ,ٱلرَّحِيمِ]   \n",
       "3                      [مَٰلِكِ,يَوْمِ,ٱلدِّينِ]   \n",
       "4     [إِيَّاكَ,نَعْبُدُ,وَإِيَّاكَ,نَسْتَعِينُ]   \n",
       "...                                          ...   \n",
       "6231                           [مَلِكِ,ٱلنَّاسِ]   \n",
       "6232                          [إِلَٰهِ,ٱلنَّاسِ]   \n",
       "6233        [مِن,شَرِّ,ٱلْوَسْوَاسِ,ٱلْخَنَّاسِ]   \n",
       "6234   [ٱلَّذِى,يُوَسْوِسُ,فِى,صُدُورِ,ٱلنَّاسِ]   \n",
       "6235   [ٱلَّذِى,يُوَسْوِسُ,فِى,صُدُورِ,ٱلنَّاسِ]   \n",
       "\n",
       "                                                tafsir1  \\\n",
       "0     In the Name of God the Compassionate the Merciful   \n",
       "1     In the Name of God the name of a thing is that...   \n",
       "2     The Compassionate the Merciful that is to say ...   \n",
       "3     Master of the Day of Judgement that is the day...   \n",
       "4     You alone we worship and You alone we ask for ...   \n",
       "...                                                 ...   \n",
       "6231                                the King of mankind   \n",
       "6232  the God of mankind both maliki’l-nās and ilāhi...   \n",
       "6233  from the evil of the slinking whisperer Satan ...   \n",
       "6234  who whispers in the breasts of mankind in thei...   \n",
       "6235  of the jinn and mankind’ mina’l-jinnati wa’l-n...   \n",
       "\n",
       "                                                tafsir2  revelation_order  \\\n",
       "0     In the name of Allah, the Beneficent, the Merc...                 5   \n",
       "1     And on his authority it is related that Ibn 'A...                 5   \n",
       "2     (The Beneficent) the Gentle. (The Merciful) th...                 5   \n",
       "3     (Owner of the Day of Judgement) the Arbitrator...                 5   \n",
       "4     (Thee (alone) we worship), we turn to you as t...                 5   \n",
       "...                                                 ...               ...   \n",
       "6231  (The King of mankind) the King of the jinn and...                21   \n",
       "6232  (The God of mankind) the Creator of the jinn a...                21   \n",
       "6233  (From the evil of the sneaking whisperer) i.e....                21   \n",
       "6234  (Who whispereth in the hearts of mankind) and ...                21   \n",
       "6235  (Of the jinn and of mankind) He says: Satan wh...                21   \n",
       "\n",
       "      hizb  \n",
       "0        1  \n",
       "1        1  \n",
       "2        1  \n",
       "3        1  \n",
       "4        1  \n",
       "...    ...  \n",
       "6231    60  \n",
       "6232    60  \n",
       "6233    60  \n",
       "6234    60  \n",
       "6235    60  \n",
       "\n",
       "[6236 rows x 19 columns]"
      ]
     },
     "execution_count": 6,
     "metadata": {},
     "output_type": "execute_result"
    }
   ],
   "source": [
    "df"
   ]
  },
  {
   "cell_type": "code",
   "execution_count": 7,
   "id": "5fb1c608-02b6-4cbe-b861-14fd85155daa",
   "metadata": {},
   "outputs": [
    {
     "data": {
      "text/plain": [
       "'Alif, Lam, Ra. [This is] a Book whose verses are perfected and then presented in detail from [one who is] Wise and Acquainted.'"
      ]
     },
     "execution_count": 7,
     "metadata": {},
     "output_type": "execute_result"
    }
   ],
   "source": [
    "f = df.surah_name_ar == 'هود'\n",
    "df[f].iloc[0]['translation']"
   ]
  },
  {
   "cell_type": "markdown",
   "id": "b287c278-36c3-4c77-a2df-50afabf9b5f3",
   "metadata": {},
   "source": [
    "'Alif, Lam, Ra. [This is] a Book whose verses are perfected and then presented in detail from [one who is] Wise and Acquainted.'"
   ]
  },
  {
   "cell_type": "code",
   "execution_count": 8,
   "id": "eeab4c04-36cd-416b-9462-ce4273f3988c",
   "metadata": {
    "editable": true,
    "slideshow": {
     "slide_type": "skip"
    },
    "tags": []
   },
   "outputs": [
    {
     "data": {
      "text/html": [
       "<div>\n",
       "<style scoped>\n",
       "    .dataframe tbody tr th:only-of-type {\n",
       "        vertical-align: middle;\n",
       "    }\n",
       "\n",
       "    .dataframe tbody tr th {\n",
       "        vertical-align: top;\n",
       "    }\n",
       "\n",
       "    .dataframe thead th {\n",
       "        text-align: right;\n",
       "    }\n",
       "</style>\n",
       "<table border=\"1\" class=\"dataframe\">\n",
       "  <thead>\n",
       "    <tr style=\"text-align: right;\">\n",
       "      <th></th>\n",
       "      <th>Surah</th>\n",
       "      <th>Ayah</th>\n",
       "      <th>translation</th>\n",
       "      <th>quran_Tashkeel</th>\n",
       "      <th>quran_line</th>\n",
       "      <th>surah_no</th>\n",
       "      <th>surah_name_en</th>\n",
       "      <th>surah_name_ar</th>\n",
       "      <th>surah_name_roman</th>\n",
       "      <th>juz_no</th>\n",
       "      <th>hizb_quarter</th>\n",
       "      <th>total_ayah_surah</th>\n",
       "      <th>place_of_revelation</th>\n",
       "      <th>no_of_word_ayah</th>\n",
       "      <th>list_of_words</th>\n",
       "      <th>tafsir1</th>\n",
       "      <th>tafsir2</th>\n",
       "      <th>revelation_order</th>\n",
       "      <th>hizb</th>\n",
       "    </tr>\n",
       "  </thead>\n",
       "  <tbody>\n",
       "    <tr>\n",
       "      <th>0</th>\n",
       "      <td>1</td>\n",
       "      <td>1</td>\n",
       "      <td>In the name of Allah, the Entirely Merciful, t...</td>\n",
       "      <td>بِسْمِ اللَّهِ الرَّحْمَـٰنِ الرَّحِيمِ</td>\n",
       "      <td>بسم الله الرحمن الرحيم</td>\n",
       "      <td>1</td>\n",
       "      <td>The Opener</td>\n",
       "      <td>الفاتحة</td>\n",
       "      <td>Al-Fatihah</td>\n",
       "      <td>1</td>\n",
       "      <td>1</td>\n",
       "      <td>7</td>\n",
       "      <td>Meccan</td>\n",
       "      <td>4</td>\n",
       "      <td>[بِسْمِ,ٱللَّهِ,ٱلرَّحْمَٰنِ,ٱلرَّحِيمِ]</td>\n",
       "      <td>In the Name of God the Compassionate the Merciful</td>\n",
       "      <td>In the name of Allah, the Beneficent, the Merc...</td>\n",
       "      <td>5</td>\n",
       "      <td>1</td>\n",
       "    </tr>\n",
       "    <tr>\n",
       "      <th>1</th>\n",
       "      <td>1</td>\n",
       "      <td>2</td>\n",
       "      <td>[All] praise is [due] to Allah, Lord of the wo...</td>\n",
       "      <td>الْحَمْدُ لِلَّهِ رَبِّ الْعَالَمِينَ</td>\n",
       "      <td>الحمد لله رب العالمين</td>\n",
       "      <td>1</td>\n",
       "      <td>The Opener</td>\n",
       "      <td>الفاتحة</td>\n",
       "      <td>Al-Fatihah</td>\n",
       "      <td>1</td>\n",
       "      <td>1</td>\n",
       "      <td>7</td>\n",
       "      <td>Meccan</td>\n",
       "      <td>4</td>\n",
       "      <td>[ٱلْحَمْدُ,لِلَّهِ,رَبِّ,ٱلْعَٰلَمِينَ]</td>\n",
       "      <td>In the Name of God the name of a thing is that...</td>\n",
       "      <td>And on his authority it is related that Ibn 'A...</td>\n",
       "      <td>5</td>\n",
       "      <td>1</td>\n",
       "    </tr>\n",
       "    <tr>\n",
       "      <th>2</th>\n",
       "      <td>1</td>\n",
       "      <td>3</td>\n",
       "      <td>The Entirely Merciful, the Especially Merciful,</td>\n",
       "      <td>الرَّحْمَـٰنِ الرَّحِيمِ</td>\n",
       "      <td>الرحمن الرحيم</td>\n",
       "      <td>1</td>\n",
       "      <td>The Opener</td>\n",
       "      <td>الفاتحة</td>\n",
       "      <td>Al-Fatihah</td>\n",
       "      <td>1</td>\n",
       "      <td>1</td>\n",
       "      <td>7</td>\n",
       "      <td>Meccan</td>\n",
       "      <td>2</td>\n",
       "      <td>[ٱلرَّحْمَٰنِ,ٱلرَّحِيمِ]</td>\n",
       "      <td>The Compassionate the Merciful that is to say ...</td>\n",
       "      <td>(The Beneficent) the Gentle. (The Merciful) th...</td>\n",
       "      <td>5</td>\n",
       "      <td>1</td>\n",
       "    </tr>\n",
       "    <tr>\n",
       "      <th>3</th>\n",
       "      <td>1</td>\n",
       "      <td>4</td>\n",
       "      <td>Sovereign of the Day of Recompense.</td>\n",
       "      <td>مَالِكِ يَوْمِ الدِّينِ</td>\n",
       "      <td>مالك يوم الدين</td>\n",
       "      <td>1</td>\n",
       "      <td>The Opener</td>\n",
       "      <td>الفاتحة</td>\n",
       "      <td>Al-Fatihah</td>\n",
       "      <td>1</td>\n",
       "      <td>1</td>\n",
       "      <td>7</td>\n",
       "      <td>Meccan</td>\n",
       "      <td>3</td>\n",
       "      <td>[مَٰلِكِ,يَوْمِ,ٱلدِّينِ]</td>\n",
       "      <td>Master of the Day of Judgement that is the day...</td>\n",
       "      <td>(Owner of the Day of Judgement) the Arbitrator...</td>\n",
       "      <td>5</td>\n",
       "      <td>1</td>\n",
       "    </tr>\n",
       "    <tr>\n",
       "      <th>4</th>\n",
       "      <td>1</td>\n",
       "      <td>5</td>\n",
       "      <td>It is You we worship and You we ask for help.</td>\n",
       "      <td>إِيَّاكَ نَعْبُدُ وَإِيَّاكَ نَسْتَعِينُ</td>\n",
       "      <td>إياك نعبد وإياك نستعين</td>\n",
       "      <td>1</td>\n",
       "      <td>The Opener</td>\n",
       "      <td>الفاتحة</td>\n",
       "      <td>Al-Fatihah</td>\n",
       "      <td>1</td>\n",
       "      <td>1</td>\n",
       "      <td>7</td>\n",
       "      <td>Meccan</td>\n",
       "      <td>4</td>\n",
       "      <td>[إِيَّاكَ,نَعْبُدُ,وَإِيَّاكَ,نَسْتَعِينُ]</td>\n",
       "      <td>You alone we worship and You alone we ask for ...</td>\n",
       "      <td>(Thee (alone) we worship), we turn to you as t...</td>\n",
       "      <td>5</td>\n",
       "      <td>1</td>\n",
       "    </tr>\n",
       "  </tbody>\n",
       "</table>\n",
       "</div>"
      ],
      "text/plain": [
       "   Surah  Ayah                                        translation  \\\n",
       "0      1     1  In the name of Allah, the Entirely Merciful, t...   \n",
       "1      1     2  [All] praise is [due] to Allah, Lord of the wo...   \n",
       "2      1     3    The Entirely Merciful, the Especially Merciful,   \n",
       "3      1     4                Sovereign of the Day of Recompense.   \n",
       "4      1     5      It is You we worship and You we ask for help.   \n",
       "\n",
       "                             quran_Tashkeel              quran_line  surah_no  \\\n",
       "0   بِسْمِ اللَّهِ الرَّحْمَـٰنِ الرَّحِيمِ  بسم الله الرحمن الرحيم         1   \n",
       "1     الْحَمْدُ لِلَّهِ رَبِّ الْعَالَمِينَ   الحمد لله رب العالمين         1   \n",
       "2                  الرَّحْمَـٰنِ الرَّحِيمِ           الرحمن الرحيم         1   \n",
       "3                   مَالِكِ يَوْمِ الدِّينِ          مالك يوم الدين         1   \n",
       "4  إِيَّاكَ نَعْبُدُ وَإِيَّاكَ نَسْتَعِينُ  إياك نعبد وإياك نستعين         1   \n",
       "\n",
       "  surah_name_en surah_name_ar surah_name_roman  juz_no  hizb_quarter  \\\n",
       "0    The Opener       الفاتحة       Al-Fatihah       1             1   \n",
       "1    The Opener       الفاتحة       Al-Fatihah       1             1   \n",
       "2    The Opener       الفاتحة       Al-Fatihah       1             1   \n",
       "3    The Opener       الفاتحة       Al-Fatihah       1             1   \n",
       "4    The Opener       الفاتحة       Al-Fatihah       1             1   \n",
       "\n",
       "   total_ayah_surah place_of_revelation  no_of_word_ayah  \\\n",
       "0                 7              Meccan                4   \n",
       "1                 7              Meccan                4   \n",
       "2                 7              Meccan                2   \n",
       "3                 7              Meccan                3   \n",
       "4                 7              Meccan                4   \n",
       "\n",
       "                                list_of_words  \\\n",
       "0    [بِسْمِ,ٱللَّهِ,ٱلرَّحْمَٰنِ,ٱلرَّحِيمِ]   \n",
       "1     [ٱلْحَمْدُ,لِلَّهِ,رَبِّ,ٱلْعَٰلَمِينَ]   \n",
       "2                   [ٱلرَّحْمَٰنِ,ٱلرَّحِيمِ]   \n",
       "3                   [مَٰلِكِ,يَوْمِ,ٱلدِّينِ]   \n",
       "4  [إِيَّاكَ,نَعْبُدُ,وَإِيَّاكَ,نَسْتَعِينُ]   \n",
       "\n",
       "                                             tafsir1  \\\n",
       "0  In the Name of God the Compassionate the Merciful   \n",
       "1  In the Name of God the name of a thing is that...   \n",
       "2  The Compassionate the Merciful that is to say ...   \n",
       "3  Master of the Day of Judgement that is the day...   \n",
       "4  You alone we worship and You alone we ask for ...   \n",
       "\n",
       "                                             tafsir2  revelation_order  hizb  \n",
       "0  In the name of Allah, the Beneficent, the Merc...                 5     1  \n",
       "1  And on his authority it is related that Ibn 'A...                 5     1  \n",
       "2  (The Beneficent) the Gentle. (The Merciful) th...                 5     1  \n",
       "3  (Owner of the Day of Judgement) the Arbitrator...                 5     1  \n",
       "4  (Thee (alone) we worship), we turn to you as t...                 5     1  "
      ]
     },
     "execution_count": 8,
     "metadata": {},
     "output_type": "execute_result"
    }
   ],
   "source": [
    "df.head()"
   ]
  },
  {
   "cell_type": "markdown",
   "id": "9132f48c-a319-40d7-9107-bbf49ac80d87",
   "metadata": {
    "editable": true,
    "slideshow": {
     "slide_type": "skip"
    },
    "tags": []
   },
   "source": [
    "# Exploration of this holy corpus"
   ]
  },
  {
   "cell_type": "markdown",
   "id": "e50c9950-1b45-416f-a120-56920db2ae02",
   "metadata": {
    "editable": true,
    "slideshow": {
     "slide_type": "slide"
    },
    "tags": []
   },
   "source": [
    "<img src='./surat-hood.png' height=300 width=300 >"
   ]
  },
  {
   "cell_type": "code",
   "execution_count": 9,
   "id": "4f6e6867-ddf5-45f3-810c-047a5149dea6",
   "metadata": {
    "editable": true,
    "slideshow": {
     "slide_type": "skip"
    },
    "tags": []
   },
   "outputs": [
    {
     "data": {
      "text/plain": [
       "Index(['Surah', 'Ayah', 'translation', 'quran_Tashkeel', 'quran_line',\n",
       "       'surah_no', 'surah_name_en', 'surah_name_ar', 'surah_name_roman',\n",
       "       'juz_no', 'hizb_quarter', 'total_ayah_surah', 'place_of_revelation',\n",
       "       'no_of_word_ayah', 'list_of_words', 'tafsir1', 'tafsir2',\n",
       "       'revelation_order', 'hizb'],\n",
       "      dtype='object')"
      ]
     },
     "execution_count": 9,
     "metadata": {},
     "output_type": "execute_result"
    }
   ],
   "source": [
    "df.columns "
   ]
  },
  {
   "cell_type": "code",
   "execution_count": 10,
   "id": "f53a5229-9dbd-4e93-bb79-d04fec2be920",
   "metadata": {
    "editable": true,
    "slideshow": {
     "slide_type": "skip"
    },
    "tags": []
   },
   "outputs": [
    {
     "data": {
      "text/html": [
       "<div>\n",
       "<style scoped>\n",
       "    .dataframe tbody tr th:only-of-type {\n",
       "        vertical-align: middle;\n",
       "    }\n",
       "\n",
       "    .dataframe tbody tr th {\n",
       "        vertical-align: top;\n",
       "    }\n",
       "\n",
       "    .dataframe thead th {\n",
       "        text-align: right;\n",
       "    }\n",
       "</style>\n",
       "<table border=\"1\" class=\"dataframe\">\n",
       "  <thead>\n",
       "    <tr style=\"text-align: right;\">\n",
       "      <th></th>\n",
       "      <th>Surah</th>\n",
       "      <th>Ayah</th>\n",
       "      <th>translation</th>\n",
       "      <th>quran_Tashkeel</th>\n",
       "      <th>quran_line</th>\n",
       "      <th>surah_no</th>\n",
       "      <th>surah_name_en</th>\n",
       "      <th>surah_name_ar</th>\n",
       "      <th>surah_name_roman</th>\n",
       "      <th>juz_no</th>\n",
       "      <th>hizb_quarter</th>\n",
       "      <th>total_ayah_surah</th>\n",
       "      <th>place_of_revelation</th>\n",
       "      <th>no_of_word_ayah</th>\n",
       "      <th>list_of_words</th>\n",
       "      <th>tafsir1</th>\n",
       "      <th>tafsir2</th>\n",
       "      <th>revelation_order</th>\n",
       "      <th>hizb</th>\n",
       "    </tr>\n",
       "  </thead>\n",
       "  <tbody>\n",
       "    <tr>\n",
       "      <th>0</th>\n",
       "      <td>1</td>\n",
       "      <td>1</td>\n",
       "      <td>In the name of Allah, the Entirely Merciful, t...</td>\n",
       "      <td>بِسْمِ اللَّهِ الرَّحْمَـٰنِ الرَّحِيمِ</td>\n",
       "      <td>بسم الله الرحمن الرحيم</td>\n",
       "      <td>1</td>\n",
       "      <td>The Opener</td>\n",
       "      <td>الفاتحة</td>\n",
       "      <td>Al-Fatihah</td>\n",
       "      <td>1</td>\n",
       "      <td>1</td>\n",
       "      <td>7</td>\n",
       "      <td>Meccan</td>\n",
       "      <td>4</td>\n",
       "      <td>[بِسْمِ,ٱللَّهِ,ٱلرَّحْمَٰنِ,ٱلرَّحِيمِ]</td>\n",
       "      <td>In the Name of God the Compassionate the Merciful</td>\n",
       "      <td>In the name of Allah, the Beneficent, the Merc...</td>\n",
       "      <td>5</td>\n",
       "      <td>1</td>\n",
       "    </tr>\n",
       "  </tbody>\n",
       "</table>\n",
       "</div>"
      ],
      "text/plain": [
       "   Surah  Ayah                                        translation  \\\n",
       "0      1     1  In the name of Allah, the Entirely Merciful, t...   \n",
       "\n",
       "                            quran_Tashkeel              quran_line  surah_no  \\\n",
       "0  بِسْمِ اللَّهِ الرَّحْمَـٰنِ الرَّحِيمِ  بسم الله الرحمن الرحيم         1   \n",
       "\n",
       "  surah_name_en surah_name_ar surah_name_roman  juz_no  hizb_quarter  \\\n",
       "0    The Opener       الفاتحة       Al-Fatihah       1             1   \n",
       "\n",
       "   total_ayah_surah place_of_revelation  no_of_word_ayah  \\\n",
       "0                 7              Meccan                4   \n",
       "\n",
       "                              list_of_words  \\\n",
       "0  [بِسْمِ,ٱللَّهِ,ٱلرَّحْمَٰنِ,ٱلرَّحِيمِ]   \n",
       "\n",
       "                                             tafsir1  \\\n",
       "0  In the Name of God the Compassionate the Merciful   \n",
       "\n",
       "                                             tafsir2  revelation_order  hizb  \n",
       "0  In the name of Allah, the Beneficent, the Merc...                 5     1  "
      ]
     },
     "execution_count": 10,
     "metadata": {},
     "output_type": "execute_result"
    }
   ],
   "source": [
    "df.head(1)"
   ]
  },
  {
   "cell_type": "markdown",
   "id": "dbf649f3-ea39-4e7c-9412-1084839a0a4d",
   "metadata": {
    "editable": true,
    "slideshow": {
     "slide_type": "slide"
    },
    "tags": []
   },
   "source": [
    "## 1.\tWhich Surah has the most Ayahs?"
   ]
  },
  {
   "cell_type": "code",
   "execution_count": 11,
   "id": "d2f09620-8f31-4423-8245-6b1ffd7459eb",
   "metadata": {
    "editable": true,
    "slideshow": {
     "slide_type": "skip"
    },
    "tags": []
   },
   "outputs": [
    {
     "data": {
      "text/html": [
       "<div>\n",
       "<style scoped>\n",
       "    .dataframe tbody tr th:only-of-type {\n",
       "        vertical-align: middle;\n",
       "    }\n",
       "\n",
       "    .dataframe tbody tr th {\n",
       "        vertical-align: top;\n",
       "    }\n",
       "\n",
       "    .dataframe thead th {\n",
       "        text-align: right;\n",
       "    }\n",
       "</style>\n",
       "<table border=\"1\" class=\"dataframe\">\n",
       "  <thead>\n",
       "    <tr style=\"text-align: right;\">\n",
       "      <th></th>\n",
       "      <th>surah_name_roman</th>\n",
       "      <th>count_of_verses</th>\n",
       "    </tr>\n",
       "  </thead>\n",
       "  <tbody>\n",
       "    <tr>\n",
       "      <th>0</th>\n",
       "      <td>Al-Baqarah</td>\n",
       "      <td>286</td>\n",
       "    </tr>\n",
       "    <tr>\n",
       "      <th>1</th>\n",
       "      <td>Ash-Shu'ara</td>\n",
       "      <td>227</td>\n",
       "    </tr>\n",
       "    <tr>\n",
       "      <th>2</th>\n",
       "      <td>Al-A'raf</td>\n",
       "      <td>206</td>\n",
       "    </tr>\n",
       "    <tr>\n",
       "      <th>3</th>\n",
       "      <td>Ali 'Imran</td>\n",
       "      <td>200</td>\n",
       "    </tr>\n",
       "    <tr>\n",
       "      <th>4</th>\n",
       "      <td>As-Saffat</td>\n",
       "      <td>182</td>\n",
       "    </tr>\n",
       "    <tr>\n",
       "      <th>5</th>\n",
       "      <td>An-Nisa</td>\n",
       "      <td>176</td>\n",
       "    </tr>\n",
       "    <tr>\n",
       "      <th>6</th>\n",
       "      <td>Al-An'am</td>\n",
       "      <td>165</td>\n",
       "    </tr>\n",
       "    <tr>\n",
       "      <th>7</th>\n",
       "      <td>Taha</td>\n",
       "      <td>135</td>\n",
       "    </tr>\n",
       "    <tr>\n",
       "      <th>8</th>\n",
       "      <td>At-Tawbah</td>\n",
       "      <td>129</td>\n",
       "    </tr>\n",
       "    <tr>\n",
       "      <th>9</th>\n",
       "      <td>An-Nahl</td>\n",
       "      <td>128</td>\n",
       "    </tr>\n",
       "  </tbody>\n",
       "</table>\n",
       "</div>"
      ],
      "text/plain": [
       "  surah_name_roman  count_of_verses\n",
       "0       Al-Baqarah              286\n",
       "1      Ash-Shu'ara              227\n",
       "2         Al-A'raf              206\n",
       "3       Ali 'Imran              200\n",
       "4        As-Saffat              182\n",
       "5          An-Nisa              176\n",
       "6         Al-An'am              165\n",
       "7             Taha              135\n",
       "8        At-Tawbah              129\n",
       "9          An-Nahl              128"
      ]
     },
     "execution_count": 11,
     "metadata": {},
     "output_type": "execute_result"
    }
   ],
   "source": [
    "\n",
    "# This directly counts rows per group\n",
    "# it does not use a specific column to find the number of rows, pandas knows what it's doing\n",
    "most_ayats_per_surah = df.groupby('surah_name_roman').size().sort_values(ascending=False).reset_index()\n",
    "most_ayats_per_surah.columns = ['surah_name_roman','count_of_verses']\n",
    "most_ayats_per_surah.head(10)"
   ]
  },
  {
   "cell_type": "code",
   "execution_count": 12,
   "id": "4b944fc5-20b5-4eae-ad6f-7fba74e89ff3",
   "metadata": {
    "editable": true,
    "slideshow": {
     "slide_type": "fragment"
    },
    "tags": []
   },
   "outputs": [
    {
     "data": {
      "image/png": "[encoded data removed]",
      "text/plain": [
       "<Figure size 1000x600 with 1 Axes>"
      ]
     },
     "metadata": {},
     "output_type": "display_data"
    }
   ],
   "source": [
    "\n",
    "most_ayats_per_surah.head(10).plot(\n",
    "    x='surah_name_roman',\n",
    "    y='count_of_verses',\n",
    "    kind='barh',\n",
    "    legend=False,\n",
    "    figsize=(10, 6),\n",
    "    color='skyblue'\n",
    ")\n",
    "\n",
    "plt.xlabel('Verses per Surah')\n",
    "plt.ylabel('Surah (Romanized)')\n",
    "plt.title('Top 10 Surahs by Verse Count')\n",
    "plt.gca().invert_yaxis()  # Highest at the top\n",
    "plt.tight_layout()\n",
    "plt.show()"
   ]
  },
  {
   "cell_type": "markdown",
   "id": "247b56cb-01d1-462d-877a-6349988ba2e1",
   "metadata": {
    "editable": true,
    "slideshow": {
     "slide_type": "skip"
    },
    "tags": []
   },
   "source": [
    "## 2.\tWhat is the average number of Ayahs per Surah?"
   ]
  },
  {
   "cell_type": "code",
   "execution_count": 13,
   "id": "4dbfb304-90a9-4670-8fe4-22ed0065cc26",
   "metadata": {
    "editable": true,
    "slideshow": {
     "slide_type": "skip"
    },
    "tags": []
   },
   "outputs": [
    {
     "data": {
      "text/plain": [
       "54.70175438596491"
      ]
     },
     "execution_count": 13,
     "metadata": {},
     "output_type": "execute_result"
    }
   ],
   "source": [
    "df.groupby('surah_name_roman').size().mean()"
   ]
  },
  {
   "cell_type": "markdown",
   "id": "52271544-a51f-4bea-940e-0c9874a2fa76",
   "metadata": {
    "editable": true,
    "slideshow": {
     "slide_type": "skip"
    },
    "tags": []
   },
   "source": [
    "on Average each surah contains `55 ayats`"
   ]
  },
  {
   "cell_type": "markdown",
   "id": "928e8b85-652a-423c-9fe6-0d340f2b6d18",
   "metadata": {
    "editable": true,
    "slideshow": {
     "slide_type": "slide"
    },
    "tags": []
   },
   "source": [
    "## 3.\tWhat is the distribution of Ayah counts across Meccan vs. Medinan revelations?"
   ]
  },
  {
   "cell_type": "code",
   "execution_count": 14,
   "id": "44e031b2-dc9a-45e1-87db-94d8a1c66a60",
   "metadata": {
    "editable": true,
    "slideshow": {
     "slide_type": "skip"
    },
    "tags": []
   },
   "outputs": [
    {
     "data": {
      "text/html": [
       "<div>\n",
       "<style scoped>\n",
       "    .dataframe tbody tr th:only-of-type {\n",
       "        vertical-align: middle;\n",
       "    }\n",
       "\n",
       "    .dataframe tbody tr th {\n",
       "        vertical-align: top;\n",
       "    }\n",
       "\n",
       "    .dataframe thead th {\n",
       "        text-align: right;\n",
       "    }\n",
       "</style>\n",
       "<table border=\"1\" class=\"dataframe\">\n",
       "  <thead>\n",
       "    <tr style=\"text-align: right;\">\n",
       "      <th></th>\n",
       "      <th>place_of_revelation</th>\n",
       "      <th>count</th>\n",
       "    </tr>\n",
       "  </thead>\n",
       "  <tbody>\n",
       "    <tr>\n",
       "      <th>0</th>\n",
       "      <td>Meccan</td>\n",
       "      <td>4613</td>\n",
       "    </tr>\n",
       "    <tr>\n",
       "      <th>1</th>\n",
       "      <td>Medinan</td>\n",
       "      <td>1623</td>\n",
       "    </tr>\n",
       "  </tbody>\n",
       "</table>\n",
       "</div>"
      ],
      "text/plain": [
       "  place_of_revelation  count\n",
       "0              Meccan   4613\n",
       "1             Medinan   1623"
      ]
     },
     "execution_count": 14,
     "metadata": {},
     "output_type": "execute_result"
    }
   ],
   "source": [
    "revelation_ayahs_count = df['place_of_revelation'].value_counts().reset_index()\n",
    "revelation_ayahs_count"
   ]
  },
  {
   "cell_type": "code",
   "execution_count": 15,
   "id": "5d567380-422c-4e38-9436-8a20d4bc1e98",
   "metadata": {
    "editable": true,
    "slideshow": {
     "slide_type": "fragment"
    },
    "tags": []
   },
   "outputs": [
    {
     "data": {
      "image/png": "[encoded data removed]",
      "text/plain": [
       "<Figure size 1000x600 with 1 Axes>"
      ]
     },
     "metadata": {},
     "output_type": "display_data"
    }
   ],
   "source": [
    "\n",
    "revelation_ayahs_count.plot(\n",
    "    x='place_of_revelation',\n",
    "    y='count',\n",
    "    kind='barh',\n",
    "    legend=False,\n",
    "    figsize=(10, 6),\n",
    "    color='skyblue'\n",
    ")\n",
    "\n",
    "plt.xlabel('Total Number of Verses')\n",
    "plt.ylabel('Place of Revelation')\n",
    "plt.title('Total Verses by Place of Revelation')\n",
    "plt.tight_layout()\n",
    "plt.show()"
   ]
  },
  {
   "cell_type": "markdown",
   "id": "38f0119e-096d-4b3d-8d01-909006b09791",
   "metadata": {
    "editable": true,
    "slideshow": {
     "slide_type": "skip"
    },
    "tags": []
   },
   "source": [
    "so most of the ayats have been revelated in mecca, and then the rest in medina\n",
    "\n",
    "how does this relate to the story and the life of the prophet, he was left alone, builled, trash talked to at mecca alot, yet most of the quran was revealed in mecca, what a miracle. the patience of this man is not understandable, he is incredible. the way the put on him the stomatch of the camel and yet he did not pray on those losers, his heart is open for everyone 😊"
   ]
  },
  {
   "cell_type": "markdown",
   "id": "3bae692b-25bc-4d9a-806c-7c667046b9cc",
   "metadata": {
    "editable": true,
    "slideshow": {
     "slide_type": "slide"
    },
    "tags": []
   },
   "source": [
    "## 4.\tWhich Surahs have the longest and shortest Ayahs (by number of words)?"
   ]
  },
  {
   "cell_type": "code",
   "execution_count": 16,
   "id": "b7fb6197-b32e-47d6-af46-d99ed453a18e",
   "metadata": {},
   "outputs": [
    {
     "data": {
      "text/plain": [
       "Index(['Surah', 'Ayah', 'translation', 'quran_Tashkeel', 'quran_line',\n",
       "       'surah_no', 'surah_name_en', 'surah_name_ar', 'surah_name_roman',\n",
       "       'juz_no', 'hizb_quarter', 'total_ayah_surah', 'place_of_revelation',\n",
       "       'no_of_word_ayah', 'list_of_words', 'tafsir1', 'tafsir2',\n",
       "       'revelation_order', 'hizb'],\n",
       "      dtype='object')"
      ]
     },
     "execution_count": 16,
     "metadata": {},
     "output_type": "execute_result"
    }
   ],
   "source": [
    "df.columns"
   ]
  },
  {
   "cell_type": "code",
   "execution_count": 17,
   "id": "e8b6f8b2-c56f-411b-9dce-4adf719f3e2f",
   "metadata": {},
   "outputs": [],
   "source": [
    "def length_of_verse_in_chars(x):\n",
    "    sum_of_chars=0\n",
    "    for i in x: \n",
    "        sum_of_chars += len(i)\n",
    "    return sum_of_chars\n",
    "        "
   ]
  },
  {
   "cell_type": "code",
   "execution_count": 18,
   "id": "be3f8ff0-6e5d-4738-9208-afbae5fbfbfc",
   "metadata": {},
   "outputs": [],
   "source": [
    "df['char_length'] = df['list_of_words'].apply(length_of_verse_in_chars)"
   ]
  },
  {
   "cell_type": "code",
   "execution_count": 19,
   "id": "8e1fb127-05fa-4b05-a9fd-e68a02f8363d",
   "metadata": {
    "editable": true,
    "slideshow": {
     "slide_type": "skip"
    },
    "tags": []
   },
   "outputs": [],
   "source": [
    "longest_ayah = df.iloc[df['char_length'].idxmax()]\n",
    "shortest_ayah = df.iloc[df['char_length'].idxmin()]"
   ]
  },
  {
   "cell_type": "code",
   "execution_count": 20,
   "id": "f829f693-7d13-4823-8506-cbf83eae4ee4",
   "metadata": {
    "editable": true,
    "slideshow": {
     "slide_type": "fragment"
    },
    "tags": []
   },
   "outputs": [
    {
     "data": {
      "text/plain": [
       "surah_name_roman    Al-Baqarah\n",
       "Ayah                       282\n",
       "Name: 288, dtype: object"
      ]
     },
     "execution_count": 20,
     "metadata": {},
     "output_type": "execute_result"
    }
   ],
   "source": [
    "longest_ayah[['surah_name_roman','Ayah']]"
   ]
  },
  {
   "cell_type": "markdown",
   "id": "5c29875a-73b0-45ea-8e5c-1e72b6cf75b3",
   "metadata": {
    "editable": true,
    "slideshow": {
     "slide_type": "fragment"
    },
    "tags": []
   },
   "source": [
    "The longest Ayah is from `surat Al-baqarah`, `verse 282`"
   ]
  },
  {
   "cell_type": "code",
   "execution_count": 21,
   "id": "a4cbcece-fd76-41f8-aba6-595a043f30dc",
   "metadata": {
    "editable": true,
    "slideshow": {
     "slide_type": "fragment"
    },
    "tags": []
   },
   "outputs": [
    {
     "data": {
      "text/plain": [
       "surah_name_roman    Taha\n",
       "Ayah                   1\n",
       "Name: 2348, dtype: object"
      ]
     },
     "execution_count": 21,
     "metadata": {},
     "output_type": "execute_result"
    }
   ],
   "source": [
    "shortest_ayah[['surah_name_roman','Ayah']]"
   ]
  },
  {
   "cell_type": "markdown",
   "id": "97efb61f-c9d9-4b9f-9446-d29fc718ee3b",
   "metadata": {
    "editable": true,
    "slideshow": {
     "slide_type": "fragment"
    },
    "tags": []
   },
   "source": [
    "The shortest Ayah is from `surat Taha`, `verse 1`"
   ]
  },
  {
   "cell_type": "markdown",
   "id": "48be443d-5bef-4e68-a9c4-22b7b64fc2eb",
   "metadata": {
    "editable": true,
    "slideshow": {
     "slide_type": "slide"
    },
    "tags": []
   },
   "source": [
    "## 5.\tWhat is the average number of words per Ayah in each Juz’?"
   ]
  },
  {
   "cell_type": "code",
   "execution_count": 22,
   "id": "c05a9bc2-d70a-4d57-8bcd-d32f2b6cedb9",
   "metadata": {
    "editable": true,
    "slideshow": {
     "slide_type": "skip"
    },
    "tags": []
   },
   "outputs": [
    {
     "data": {
      "text/plain": [
       "Index(['juz_no', 'no_of_word_ayah'], dtype='object')"
      ]
     },
     "execution_count": 22,
     "metadata": {},
     "output_type": "execute_result"
    }
   ],
   "source": [
    "average_number_of_verses_per_juz = df.groupby('juz_no')['no_of_word_ayah'].mean().reset_index()\n",
    "average_number_of_verses_per_juz.columns"
   ]
  },
  {
   "cell_type": "code",
   "execution_count": 23,
   "id": "5b3c2afd-04f8-4735-b0f3-ee13633348f5",
   "metadata": {
    "editable": true,
    "slideshow": {
     "slide_type": "skip"
    },
    "tags": []
   },
   "outputs": [],
   "source": [
    "average_number_of_verses_per_juz.columns = ['juz_no', 'average_number_of_ayats']"
   ]
  },
  {
   "cell_type": "code",
   "execution_count": 24,
   "id": "07b5f68c-e8a4-4d8d-8da4-ec959f60dc9a",
   "metadata": {
    "editable": true,
    "slideshow": {
     "slide_type": "skip"
    },
    "tags": []
   },
   "outputs": [
    {
     "data": {
      "text/html": [
       "<div>\n",
       "<style scoped>\n",
       "    .dataframe tbody tr th:only-of-type {\n",
       "        vertical-align: middle;\n",
       "    }\n",
       "\n",
       "    .dataframe tbody tr th {\n",
       "        vertical-align: top;\n",
       "    }\n",
       "\n",
       "    .dataframe thead th {\n",
       "        text-align: right;\n",
       "    }\n",
       "</style>\n",
       "<table border=\"1\" class=\"dataframe\">\n",
       "  <thead>\n",
       "    <tr style=\"text-align: right;\">\n",
       "      <th></th>\n",
       "      <th>juz_no</th>\n",
       "      <th>average_number_of_ayats</th>\n",
       "    </tr>\n",
       "  </thead>\n",
       "  <tbody>\n",
       "    <tr>\n",
       "      <th>1</th>\n",
       "      <td>2</td>\n",
       "      <td>25.270270</td>\n",
       "    </tr>\n",
       "    <tr>\n",
       "      <th>5</th>\n",
       "      <td>6</td>\n",
       "      <td>24.518182</td>\n",
       "    </tr>\n",
       "    <tr>\n",
       "      <th>2</th>\n",
       "      <td>3</td>\n",
       "      <td>22.317460</td>\n",
       "    </tr>\n",
       "    <tr>\n",
       "      <th>4</th>\n",
       "      <td>5</td>\n",
       "      <td>22.201613</td>\n",
       "    </tr>\n",
       "    <tr>\n",
       "      <th>27</th>\n",
       "      <td>28</td>\n",
       "      <td>20.510949</td>\n",
       "    </tr>\n",
       "    <tr>\n",
       "      <th>3</th>\n",
       "      <td>4</td>\n",
       "      <td>20.480916</td>\n",
       "    </tr>\n",
       "    <tr>\n",
       "      <th>9</th>\n",
       "      <td>10</td>\n",
       "      <td>20.102362</td>\n",
       "    </tr>\n",
       "    <tr>\n",
       "      <th>6</th>\n",
       "      <td>7</td>\n",
       "      <td>20.046980</td>\n",
       "    </tr>\n",
       "    <tr>\n",
       "      <th>7</th>\n",
       "      <td>8</td>\n",
       "      <td>19.330986</td>\n",
       "    </tr>\n",
       "    <tr>\n",
       "      <th>10</th>\n",
       "      <td>11</td>\n",
       "      <td>18.814570</td>\n",
       "    </tr>\n",
       "  </tbody>\n",
       "</table>\n",
       "</div>"
      ],
      "text/plain": [
       "    juz_no  average_number_of_ayats\n",
       "1        2                25.270270\n",
       "5        6                24.518182\n",
       "2        3                22.317460\n",
       "4        5                22.201613\n",
       "27      28                20.510949\n",
       "3        4                20.480916\n",
       "9       10                20.102362\n",
       "6        7                20.046980\n",
       "7        8                19.330986\n",
       "10      11                18.814570"
      ]
     },
     "execution_count": 24,
     "metadata": {},
     "output_type": "execute_result"
    }
   ],
   "source": [
    "sorted_average_number_of_verses_per_juz = average_number_of_verses_per_juz\\\n",
    ".sort_values(by='average_number_of_ayats',ascending=False).head(10)\n",
    "sorted_average_number_of_verses_per_juz"
   ]
  },
  {
   "cell_type": "markdown",
   "id": "c71fef98-50b5-4b8d-a6d8-491eaa11c3b9",
   "metadata": {
    "editable": true,
    "slideshow": {
     "slide_type": "skip"
    },
    "tags": []
   },
   "source": [
    "what is happening here, amazing results ! th juz from `2 ~ 11` show up in the `top average number of ayats`, but amazingly the `juz 28` also shows up in the `top 10 average number of ayats per juz`. Amazing 😍"
   ]
  },
  {
   "cell_type": "code",
   "execution_count": 25,
   "id": "42101fb3-64f6-4cf1-8f40-ec59e416a14c",
   "metadata": {
    "editable": true,
    "slideshow": {
     "slide_type": "fragment"
    },
    "tags": []
   },
   "outputs": [
    {
     "data": {
      "image/png": "[encoded data removed]",
      "text/plain": [
       "<Figure size 1000x600 with 1 Axes>"
      ]
     },
     "metadata": {},
     "output_type": "display_data"
    }
   ],
   "source": [
    "\n",
    "sorted_average_number_of_verses_per_juz.plot(\n",
    "    x='juz_no',\n",
    "    y='average_number_of_ayats',\n",
    "    kind='barh',\n",
    "    legend=False,\n",
    "    figsize=(10, 6),\n",
    "    color='skyblue'\n",
    ")\n",
    "\n",
    "\n",
    "plt.xlabel('Average Number of Verses')\n",
    "plt.ylabel('Juz Number')\n",
    "plt.title('Average Number of Verses per Juz')\n",
    "\n",
    "# invert the yaxis to see the top at the top 😆\n",
    "plt.gca().invert_yaxis()\n",
    "\n",
    "plt.tight_layout()\n",
    "plt.show()    "
   ]
  },
  {
   "cell_type": "markdown",
   "id": "8b09df67-9fa0-4c33-9f83-d1a421090c97",
   "metadata": {
    "editable": true,
    "slideshow": {
     "slide_type": "skip"
    },
    "tags": []
   },
   "source": [
    "### function to make my work easier: "
   ]
  },
  {
   "cell_type": "code",
   "execution_count": 26,
   "id": "3461690e-21b5-4084-bd13-6b022db4946d",
   "metadata": {
    "editable": true,
    "slideshow": {
     "slide_type": "skip"
    },
    "tags": []
   },
   "outputs": [],
   "source": [
    "def my_plot_func(df,x='',y='',kind='barh',\n",
    "                 legend=False, figsize=(10,6),\n",
    "                 color='skyblue', xlabel='', ylabel='',\n",
    "                 title='', invert_axis = True\n",
    "                \n",
    "                ):\n",
    "    df.plot(\n",
    "        x = x,\n",
    "        y = y,\n",
    "        kind = kind,\n",
    "        legend = legend,\n",
    "        figsize = figsize,\n",
    "        color = color,\n",
    "    )\n",
    "\n",
    "    # Fix axis labels and title to match the data\n",
    "    plt.xlabel(xlabel)\n",
    "    plt.ylabel(ylabel)\n",
    "    plt.title(title)\n",
    "    \n",
    "    if invert_axis:\n",
    "        plt.gca().invert_yaxis()\n",
    "    \n",
    "    plt.tight_layout()\n",
    "    plt.show()"
   ]
  },
  {
   "cell_type": "code",
   "execution_count": null,
   "id": "f1176277-cdbd-4cc0-8d4a-ecbcefcb6359",
   "metadata": {},
   "outputs": [],
   "source": []
  },
  {
   "cell_type": "markdown",
   "id": "0247fff8-9f42-4431-8485-191b53558f02",
   "metadata": {
    "editable": true,
    "slideshow": {
     "slide_type": "slide"
    },
    "tags": []
   },
   "source": [
    "## 6.\tDo Meccan Surahs tend to have more or fewer words per Ayah than Medinan ones?"
   ]
  },
  {
   "cell_type": "code",
   "execution_count": 27,
   "id": "0a20aa70-7913-42c5-9663-3ec82b9f0de5",
   "metadata": {
    "editable": true,
    "slideshow": {
     "slide_type": "skip"
    },
    "tags": []
   },
   "outputs": [
    {
     "data": {
      "text/html": [
       "<div>\n",
       "<style scoped>\n",
       "    .dataframe tbody tr th:only-of-type {\n",
       "        vertical-align: middle;\n",
       "    }\n",
       "\n",
       "    .dataframe tbody tr th {\n",
       "        vertical-align: top;\n",
       "    }\n",
       "\n",
       "    .dataframe thead th {\n",
       "        text-align: right;\n",
       "    }\n",
       "</style>\n",
       "<table border=\"1\" class=\"dataframe\">\n",
       "  <thead>\n",
       "    <tr style=\"text-align: right;\">\n",
       "      <th></th>\n",
       "      <th>place_of_revelation</th>\n",
       "      <th>no_of_word_ayah</th>\n",
       "    </tr>\n",
       "  </thead>\n",
       "  <tbody>\n",
       "    <tr>\n",
       "      <th>0</th>\n",
       "      <td>Meccan</td>\n",
       "      <td>10.822241</td>\n",
       "    </tr>\n",
       "    <tr>\n",
       "      <th>1</th>\n",
       "      <td>Medinan</td>\n",
       "      <td>19.775108</td>\n",
       "    </tr>\n",
       "  </tbody>\n",
       "</table>\n",
       "</div>"
      ],
      "text/plain": [
       "  place_of_revelation  no_of_word_ayah\n",
       "0              Meccan        10.822241\n",
       "1             Medinan        19.775108"
      ]
     },
     "execution_count": 27,
     "metadata": {},
     "output_type": "execute_result"
    }
   ],
   "source": [
    "revelation_place_word_per_ayah = df.groupby('place_of_revelation')['no_of_word_ayah'].mean().reset_index()\n",
    "revelation_place_word_per_ayah"
   ]
  },
  {
   "cell_type": "code",
   "execution_count": 28,
   "id": "63a13b3a-3ae9-4329-a157-032f63387378",
   "metadata": {
    "editable": true,
    "slideshow": {
     "slide_type": "fragment"
    },
    "tags": []
   },
   "outputs": [
    {
     "data": {
      "image/png": "[encoded data removed]",
      "text/plain": [
       "<Figure size 1000x600 with 1 Axes>"
      ]
     },
     "metadata": {},
     "output_type": "display_data"
    }
   ],
   "source": [
    "\n",
    "my_plot_func(\n",
    "    revelation_place_word_per_ayah,\n",
    "    x='place_of_revelation',\n",
    "    y='no_of_word_ayah',\n",
    "    title='Average Words per Ayah in Meccan vs. Medinan Surahs',\n",
    "    ylabel='Place of Revelation',\n",
    "    xlabel='Average Number of Words per Ayah'\n",
    ")"
   ]
  },
  {
   "cell_type": "markdown",
   "id": "48d76a9a-6108-48c6-a57f-7d0deeb4a788",
   "metadata": {
    "editable": true,
    "slideshow": {
     "slide_type": "skip"
    },
    "tags": []
   },
   "source": [
    "very cool, but `why is that ? why medinan surahs have more words per ayah than meccan ?`"
   ]
  },
  {
   "cell_type": "markdown",
   "id": "cc150aed-859d-4748-af9f-a53b2a08cea2",
   "metadata": {
    "editable": true,
    "slideshow": {
     "slide_type": "slide"
    },
    "tags": []
   },
   "source": [
    "## 7.\tWhich Juz has the highest total number of words?"
   ]
  },
  {
   "cell_type": "code",
   "execution_count": 29,
   "id": "dd726d83-c9de-475a-a41b-9116a512e547",
   "metadata": {
    "editable": true,
    "slideshow": {
     "slide_type": "skip"
    },
    "tags": []
   },
   "outputs": [
    {
     "data": {
      "text/html": [
       "<div>\n",
       "<style scoped>\n",
       "    .dataframe tbody tr th:only-of-type {\n",
       "        vertical-align: middle;\n",
       "    }\n",
       "\n",
       "    .dataframe tbody tr th {\n",
       "        vertical-align: top;\n",
       "    }\n",
       "\n",
       "    .dataframe thead th {\n",
       "        text-align: right;\n",
       "    }\n",
       "</style>\n",
       "<table border=\"1\" class=\"dataframe\">\n",
       "  <thead>\n",
       "    <tr style=\"text-align: right;\">\n",
       "      <th></th>\n",
       "      <th>juz_no</th>\n",
       "      <th>no_of_word_ayah</th>\n",
       "    </tr>\n",
       "  </thead>\n",
       "  <tbody>\n",
       "    <tr>\n",
       "      <th>0</th>\n",
       "      <td>7</td>\n",
       "      <td>2987</td>\n",
       "    </tr>\n",
       "    <tr>\n",
       "      <th>1</th>\n",
       "      <td>12</td>\n",
       "      <td>2877</td>\n",
       "    </tr>\n",
       "    <tr>\n",
       "      <th>2</th>\n",
       "      <td>16</td>\n",
       "      <td>2861</td>\n",
       "    </tr>\n",
       "    <tr>\n",
       "      <th>3</th>\n",
       "      <td>11</td>\n",
       "      <td>2841</td>\n",
       "    </tr>\n",
       "    <tr>\n",
       "      <th>4</th>\n",
       "      <td>15</td>\n",
       "      <td>2827</td>\n",
       "    </tr>\n",
       "    <tr>\n",
       "      <th>5</th>\n",
       "      <td>25</td>\n",
       "      <td>2823</td>\n",
       "    </tr>\n",
       "    <tr>\n",
       "      <th>6</th>\n",
       "      <td>3</td>\n",
       "      <td>2812</td>\n",
       "    </tr>\n",
       "    <tr>\n",
       "      <th>7</th>\n",
       "      <td>22</td>\n",
       "      <td>2811</td>\n",
       "    </tr>\n",
       "    <tr>\n",
       "      <th>8</th>\n",
       "      <td>28</td>\n",
       "      <td>2810</td>\n",
       "    </tr>\n",
       "    <tr>\n",
       "      <th>9</th>\n",
       "      <td>13</td>\n",
       "      <td>2807</td>\n",
       "    </tr>\n",
       "  </tbody>\n",
       "</table>\n",
       "</div>"
      ],
      "text/plain": [
       "   juz_no  no_of_word_ayah\n",
       "0       7             2987\n",
       "1      12             2877\n",
       "2      16             2861\n",
       "3      11             2841\n",
       "4      15             2827\n",
       "5      25             2823\n",
       "6       3             2812\n",
       "7      22             2811\n",
       "8      28             2810\n",
       "9      13             2807"
      ]
     },
     "execution_count": 29,
     "metadata": {},
     "output_type": "execute_result"
    }
   ],
   "source": [
    "\n",
    "number_of_words_per_juz = (\n",
    "    df.groupby('juz_no')['no_of_word_ayah'].sum()\n",
    "        .sort_values(ascending=False)\n",
    "        .reset_index()\n",
    "        .head(10)\n",
    "                          )\n",
    "number_of_words_per_juz"
   ]
  },
  {
   "cell_type": "code",
   "execution_count": 30,
   "id": "392376e4-e984-4755-9194-6086596ed268",
   "metadata": {
    "editable": true,
    "slideshow": {
     "slide_type": "fragment"
    },
    "tags": []
   },
   "outputs": [
    {
     "data": {
      "image/png": "[encoded data removed]",
      "text/plain": [
       "<Figure size 1000x600 with 1 Axes>"
      ]
     },
     "metadata": {},
     "output_type": "display_data"
    }
   ],
   "source": [
    "\n",
    "my_plot_func(\n",
    "    number_of_words_per_juz,\n",
    "    x='juz_no',\n",
    "    y='no_of_word_ayah',\n",
    "    title='Top 10 Juz with the Highest Total Word Counts',\n",
    "    ylabel='Juz Number',\n",
    "    xlabel='Total Number of Words'\n",
    ")"
   ]
  },
  {
   "cell_type": "markdown",
   "id": "51bc1130-a195-41dd-ab84-0118b411f8ab",
   "metadata": {
    "editable": true,
    "slideshow": {
     "slide_type": "skip"
    },
    "tags": []
   },
   "source": [
    "`These juz's have the highest number of words, not the number of verses ! `\n",
    "\n",
    "this is amazing, i thought that the highest number of words is in the first 10 juz's, but now we can see clearly that the highest number of words is mainly focused around juz's from `11 ~ 28` , that shall explain something 100%"
   ]
  },
  {
   "cell_type": "markdown",
   "id": "8c3d8cef-5355-4ef7-9082-8cc69cf56f4d",
   "metadata": {
    "editable": true,
    "slideshow": {
     "slide_type": "slide"
    },
    "tags": []
   },
   "source": [
    "## 8.\tIs there a significant difference in average Ayah length (words) between early and late Surahs?"
   ]
  },
  {
   "cell_type": "code",
   "execution_count": 31,
   "id": "352abf1b-197f-42af-82f1-b6a75b43fffa",
   "metadata": {
    "editable": true,
    "slideshow": {
     "slide_type": "skip"
    },
    "tags": []
   },
   "outputs": [],
   "source": [
    "# use the median to separate the data between late and early surahs\n",
    "median_of_revelated_surahs = df['revelation_order'].median()\n",
    "early_filter =  df['revelation_order'] <= median_of_revelated_surahs\n",
    "late_filter = df['revelation_order'] > median_of_revelated_surahs\n",
    "\n",
    "early_surahs = df[ early_filter ]\n",
    "\n",
    "late_surahs = df[ late_filter ] \n",
    "\n",
    "\n",
    "# find the mean or the average for both early and late\n",
    "mean_early =  early_surahs['no_of_word_ayah'].mean() # a single number !\n",
    "mean_late =   late_surahs['no_of_word_ayah'].mean() # a single number "
   ]
  },
  {
   "cell_type": "code",
   "execution_count": 32,
   "id": "34e7f3f4-65b9-4298-9bd1-3e75217e1202",
   "metadata": {},
   "outputs": [
    {
     "name": "stdout",
     "output_type": "stream",
     "text": [
      "i = 0\n",
      "val = 10.804251269035532\n",
      "i = 1\n",
      "val = 15.552204928664073\n"
     ]
    }
   ],
   "source": [
    "# understaing this for loop ....\n",
    "for i, val in enumerate([mean_early, mean_late]):\n",
    "    print(f'i = {i}')\n",
    "    print(f'val = {val}')\n",
    "    "
   ]
  },
  {
   "cell_type": "code",
   "execution_count": 33,
   "id": "0f6a9e76-a6a6-4ee1-8678-521ccbe43524",
   "metadata": {
    "editable": true,
    "slideshow": {
     "slide_type": "fragment"
    },
    "tags": []
   },
   "outputs": [
    {
     "data": {
      "image/png": "[encoded data removed]",
      "text/plain": [
       "<Figure size 800x600 with 1 Axes>"
      ]
     },
     "metadata": {},
     "output_type": "display_data"
    }
   ],
   "source": [
    "\n",
    "# Bar plot to compare mean Ayah lengths\n",
    "plt.figure(figsize=(8, 6))\n",
    "#                titles here                 the values here                 colors here\n",
    "plt.bar(['Early Surahs', 'Late Surahs'], [mean_early, mean_late], color=['skyblue', 'salmon'])\n",
    "plt.title('Average Number of Words per Ayah\\nEarly vs. Late Surahs')\n",
    "plt.ylabel('Average Words per Ayah')\n",
    "\n",
    "# This for loop will place 10.80 at the top of the skyblue bar\n",
    "# \n",
    "for i, val in enumerate([mean_early, mean_late]):\n",
    "    # i = index of the value, it's the x part of where we will draw the value of mean_early\n",
    "    # val+0.1 -> this is the y location of where we will plot the mean_early \"value\"\n",
    "    # f'{val:.2f}' -> the actual value\n",
    "    # ha='center' -> horizontal alignment -- center / va='bottom' -- vertical alignment the value will sit exactly on the top of the bar 😊\n",
    "    plt.text(i, val + 0.1, f'{val:.2f}', ha='center', va='bottom') \n",
    "\n",
    "plt.tight_layout() # make this look مرتب\n",
    "plt.show()"
   ]
  },
  {
   "cell_type": "markdown",
   "id": "189ee545-29ca-4dd8-9b70-04d3a8b745af",
   "metadata": {
    "editable": true,
    "slideshow": {
     "slide_type": "slide"
    },
    "tags": []
   },
   "source": [
    "`“A general rule of thumb in life is that everything should start easy and gradually increase in difficulty. Nothing begins as hard from the start. As humans, we progress step by step — from kindergarten to school, high school, university, and eventually to work and beyond.\n",
    "This is a natural law — سنة من سنن الله (a divine principle of how life unfolds).”`"
   ]
  },
  {
   "cell_type": "markdown",
   "id": "d6deff6f-a30e-4204-9823-0fd44613a633",
   "metadata": {
    "editable": true,
    "slideshow": {
     "slide_type": "slide"
    },
    "tags": []
   },
   "source": [
    "## 9.\tHow does the number of Ayahs vary across different Hizb quarters?"
   ]
  },
  {
   "cell_type": "code",
   "execution_count": 34,
   "id": "dc7b3d19-5555-478a-a156-0d04252e76e4",
   "metadata": {
    "editable": true,
    "slideshow": {
     "slide_type": "skip"
    },
    "tags": []
   },
   "outputs": [
    {
     "data": {
      "text/plain": [
       "Index(['Surah', 'Ayah', 'translation', 'quran_Tashkeel', 'quran_line',\n",
       "       'surah_no', 'surah_name_en', 'surah_name_ar', 'surah_name_roman',\n",
       "       'juz_no', 'hizb_quarter', 'total_ayah_surah', 'place_of_revelation',\n",
       "       'no_of_word_ayah', 'list_of_words', 'tafsir1', 'tafsir2',\n",
       "       'revelation_order', 'hizb', 'char_length'],\n",
       "      dtype='object')"
      ]
     },
     "execution_count": 34,
     "metadata": {},
     "output_type": "execute_result"
    }
   ],
   "source": [
    "df.columns "
   ]
  },
  {
   "cell_type": "code",
   "execution_count": 35,
   "id": "32698e8c-0c5c-4666-a46e-c417051f364c",
   "metadata": {
    "editable": true,
    "slideshow": {
     "slide_type": "skip"
    },
    "tags": []
   },
   "outputs": [
    {
     "data": {
      "text/plain": [
       "array([  1,   2,   3,   4,   5,   6,   7,   8,   9,  10,  11,  12,  13,\n",
       "        14,  15,  16,  17,  18,  19,  20,  21,  22,  23,  24,  25,  26,\n",
       "        27,  28,  29,  30,  31,  32,  33,  34,  35,  36,  37,  38,  39,\n",
       "        40,  41,  42,  43,  44,  45,  46,  47,  48,  49,  50,  51,  52,\n",
       "        53,  54,  55,  56,  57,  58,  59,  60,  61,  62,  63,  64,  65,\n",
       "        66,  67,  68,  69,  70,  71,  72,  73,  74,  75,  76,  77,  78,\n",
       "        79,  80,  81,  82,  83,  84,  85,  86,  87,  88,  89,  90,  91,\n",
       "        92,  93,  94,  95,  96,  97,  98,  99, 100, 101, 102, 103, 104,\n",
       "       105, 106, 107, 108, 109, 110, 111, 112, 113, 114, 115, 116, 117,\n",
       "       118, 119, 120, 121, 122, 123, 124, 125, 126, 127, 128, 129, 130,\n",
       "       131, 132, 133, 134, 135, 136, 137, 138, 139, 140, 141, 142, 143,\n",
       "       144, 145, 146, 147, 148, 149, 150, 151, 152, 153, 154, 155, 156,\n",
       "       157, 158, 159, 160, 161, 162, 163, 164, 165, 166, 167, 168, 169,\n",
       "       170, 171, 172, 173, 174, 175, 176, 177, 178, 179, 180, 181, 182,\n",
       "       183, 184, 185, 186, 187, 188, 189, 190, 191, 192, 193, 194, 195,\n",
       "       196, 197, 198, 199, 200, 201, 202, 203, 204, 205, 206, 207, 208,\n",
       "       209, 210, 211, 212, 213, 214, 215, 216, 217, 218, 219, 220, 221,\n",
       "       222, 223, 224, 225, 226, 227, 228, 229, 230, 231, 232, 233, 234,\n",
       "       235, 236, 237, 238, 239, 240])"
      ]
     },
     "execution_count": 35,
     "metadata": {},
     "output_type": "execute_result"
    }
   ],
   "source": [
    "df.hizb_quarter.unique()"
   ]
  },
  {
   "cell_type": "code",
   "execution_count": 36,
   "id": "b8441fdd-f9ff-4986-9da7-7a0bdc7644b8",
   "metadata": {
    "editable": true,
    "slideshow": {
     "slide_type": "skip"
    },
    "tags": []
   },
   "outputs": [
    {
     "data": {
      "text/plain": [
       "array([  1,   2,   3,   4,   5,   6,   7,   8,   9,  10,  11,  12,  13,\n",
       "        14,  15,  16,  17,  18,  19,  20,  21,  22,  23,  24,  25,  26,\n",
       "        27,  28,  29,  30,  31,  32,  33,  34,  35,  36,  37,  38,  39,\n",
       "        40,  41,  42,  43,  44,  45,  46,  47,  48,  49,  50,  51,  52,\n",
       "        53,  54,  55,  56,  57,  58,  59,  60,  61,  62,  63,  64,  65,\n",
       "        66,  67,  68,  69,  70,  71,  72,  73,  74,  75,  76,  77,  78,\n",
       "        79,  80,  81,  82,  83,  84,  85,  86,  87,  88,  89,  90,  91,\n",
       "        92,  93,  94,  95,  96,  97,  98,  99, 100, 101, 102, 103, 104,\n",
       "       105, 106, 107, 108, 109, 110, 111, 112, 113, 114, 115, 116, 117,\n",
       "       118, 119, 120, 121, 122, 123, 124, 125, 126, 127, 128, 129, 130,\n",
       "       131, 132, 133, 134, 135, 136, 137, 138, 139, 140, 141, 142, 143,\n",
       "       144, 145, 146, 147, 148, 149, 150, 151, 152, 153, 154, 155, 156,\n",
       "       157, 158, 159, 160, 161, 162, 163, 164, 165, 166, 167, 168, 169,\n",
       "       170, 171, 172, 173, 174, 175, 176, 177, 178, 179, 180, 181, 182,\n",
       "       183, 184, 185, 186, 187, 188, 189, 190, 191, 192, 193, 194, 195,\n",
       "       196, 197, 198, 199, 200, 201, 202, 203, 204, 205, 206, 207, 208,\n",
       "       209, 210, 211, 212, 213, 214, 215, 216, 217, 218, 219, 220, 221,\n",
       "       222, 223, 224, 225, 226, 227, 228, 229, 230, 231, 232, 233, 234,\n",
       "       235, 236, 237, 238, 239, 240])"
      ]
     },
     "execution_count": 36,
     "metadata": {},
     "output_type": "execute_result"
    }
   ],
   "source": [
    "df.hizb_quarter.unique()"
   ]
  },
  {
   "cell_type": "markdown",
   "id": "fe501192-5f5a-4567-a0ab-4a96b7263170",
   "metadata": {
    "editable": true,
    "slideshow": {
     "slide_type": "skip"
    },
    "tags": []
   },
   "source": [
    "## All hizbs are good"
   ]
  },
  {
   "cell_type": "code",
   "execution_count": 37,
   "id": "62cf6ba8-2d35-4799-ad81-983163aa9e49",
   "metadata": {},
   "outputs": [],
   "source": [
    "hizbs = [1,2,3,4,5,6,7,8]"
   ]
  },
  {
   "cell_type": "code",
   "execution_count": 38,
   "id": "56ab71d5-e6df-4323-990d-07eabcdca05d",
   "metadata": {},
   "outputs": [
    {
     "name": "stdout",
     "output_type": "stream",
     "text": [
      "1\n",
      "1\n",
      "1\n",
      "1\n",
      "2\n",
      "2\n",
      "2\n",
      "2\n"
     ]
    },
    {
     "data": {
      "text/plain": [
       "{'1': [1, 2, 3, 4], '2': [5, 6, 7, 8]}"
      ]
     },
     "execution_count": 38,
     "metadata": {},
     "output_type": "execute_result"
    }
   ],
   "source": [
    "f = {}\n",
    "final_list = []\n",
    "list_2 = []\n",
    "for i in hizbs:\n",
    "    x = ((i-1)//4)+1 # this formula works properly 😊\n",
    "    print(x)\n",
    "    if x == 1: \n",
    "        final_list.append(i)\n",
    "    else: \n",
    "        list_2.append(i)\n",
    "\n",
    "f['1'] = final_list\n",
    "f['2'] = list_2\n",
    "\n",
    "f\n",
    "    "
   ]
  },
  {
   "cell_type": "code",
   "execution_count": 39,
   "id": "a7eb4a65-ad7f-4371-99de-401bba4b0a69",
   "metadata": {},
   "outputs": [
    {
     "data": {
      "text/plain": [
       "(0, 0, 0, 0)"
      ]
     },
     "execution_count": 39,
     "metadata": {},
     "output_type": "execute_result"
    }
   ],
   "source": [
    "0//4, 1//4,2//4,3//4 # maps correctly into a 0 base, super cool"
   ]
  },
  {
   "cell_type": "code",
   "execution_count": 40,
   "id": "9ca16d03-c905-4e79-b55d-904a4468a237",
   "metadata": {
    "editable": true,
    "slideshow": {
     "slide_type": "skip"
    },
    "tags": []
   },
   "outputs": [],
   "source": [
    "# this formula: ((df['hizb_quarter'] - 1) // 4) + 1\n",
    "# converts the hizb-quarter into 0 base then integer divides by 4, then it converts it back to 1-based.\n",
    "\n",
    "# the conversion to the 0-based sturcture is to make sure hizb_quarter (total of 240) maps exactly to 60 hizbs,\n",
    "# 4 quarters per hizb, a total of 60 hizbs.\n",
    "\n",
    "# df['hizb'] = ((df['hizb_quarter'] - 1) // 4) + 1 # commented out so we do not replicate it in the dataframe\n",
    "\n",
    "# f = df.hizb == 60\n",
    "# df[f][['hizb_quarter','hizb']]['hizb_quarter'].unique()"
   ]
  },
  {
   "cell_type": "markdown",
   "id": "c36f4ae5-437c-4a64-b0f2-6dc52eae36ef",
   "metadata": {
    "editable": true,
    "slideshow": {
     "slide_type": "skip"
    },
    "tags": []
   },
   "source": [
    "# Checkpoint"
   ]
  },
  {
   "cell_type": "code",
   "execution_count": 41,
   "id": "3ee35f69-bb1e-4c51-8209-6d2c3f507bd1",
   "metadata": {
    "editable": true,
    "slideshow": {
     "slide_type": "skip"
    },
    "tags": []
   },
   "outputs": [],
   "source": [
    "# df.to_csv('./main.csv') "
   ]
  },
  {
   "cell_type": "markdown",
   "id": "0265b4b8-7432-45f3-bd38-0e699cd7e992",
   "metadata": {
    "editable": true,
    "slideshow": {
     "slide_type": "skip"
    },
    "tags": []
   },
   "source": [
    "# Answer to question 9"
   ]
  },
  {
   "cell_type": "markdown",
   "id": "47fb5120-67f6-4bb4-ad59-1a727b17e291",
   "metadata": {
    "editable": true,
    "slideshow": {
     "slide_type": "skip"
    },
    "tags": []
   },
   "source": [
    "9. How does the number of Ayahs vary across different Hizb quarters?"
   ]
  },
  {
   "cell_type": "code",
   "execution_count": 42,
   "id": "83b65340-6a0c-4eee-99d2-72694ce72c97",
   "metadata": {
    "editable": true,
    "slideshow": {
     "slide_type": "skip"
    },
    "tags": []
   },
   "outputs": [],
   "source": [
    "\n",
    "hizb_number_of_verses = df.groupby('hizb').size().reset_index()\n",
    "hizb_number_of_verses.columns= ['hizb','count_of_verses_per_hizb']"
   ]
  },
  {
   "cell_type": "code",
   "execution_count": 43,
   "id": "2dbb529a-2d99-4041-83e0-b10576a3b55c",
   "metadata": {
    "editable": true,
    "slideshow": {
     "slide_type": "skip"
    },
    "tags": []
   },
   "outputs": [
    {
     "data": {
      "text/html": [
       "<div>\n",
       "<style scoped>\n",
       "    .dataframe tbody tr th:only-of-type {\n",
       "        vertical-align: middle;\n",
       "    }\n",
       "\n",
       "    .dataframe tbody tr th {\n",
       "        vertical-align: top;\n",
       "    }\n",
       "\n",
       "    .dataframe thead th {\n",
       "        text-align: right;\n",
       "    }\n",
       "</style>\n",
       "<table border=\"1\" class=\"dataframe\">\n",
       "  <thead>\n",
       "    <tr style=\"text-align: right;\">\n",
       "      <th></th>\n",
       "      <th>hizb</th>\n",
       "      <th>count_of_verses_per_hizb</th>\n",
       "    </tr>\n",
       "  </thead>\n",
       "  <tbody>\n",
       "    <tr>\n",
       "      <th>59</th>\n",
       "      <td>60</td>\n",
       "      <td>288</td>\n",
       "    </tr>\n",
       "    <tr>\n",
       "      <th>58</th>\n",
       "      <td>59</td>\n",
       "      <td>276</td>\n",
       "    </tr>\n",
       "    <tr>\n",
       "      <th>57</th>\n",
       "      <td>58</td>\n",
       "      <td>225</td>\n",
       "    </tr>\n",
       "    <tr>\n",
       "      <th>56</th>\n",
       "      <td>57</td>\n",
       "      <td>206</td>\n",
       "    </tr>\n",
       "    <tr>\n",
       "      <th>53</th>\n",
       "      <td>54</td>\n",
       "      <td>203</td>\n",
       "    </tr>\n",
       "    <tr>\n",
       "      <th>44</th>\n",
       "      <td>45</td>\n",
       "      <td>200</td>\n",
       "    </tr>\n",
       "    <tr>\n",
       "      <th>52</th>\n",
       "      <td>53</td>\n",
       "      <td>196</td>\n",
       "    </tr>\n",
       "    <tr>\n",
       "      <th>37</th>\n",
       "      <td>38</td>\n",
       "      <td>172</td>\n",
       "    </tr>\n",
       "    <tr>\n",
       "      <th>36</th>\n",
       "      <td>37</td>\n",
       "      <td>167</td>\n",
       "    </tr>\n",
       "    <tr>\n",
       "      <th>49</th>\n",
       "      <td>50</td>\n",
       "      <td>162</td>\n",
       "    </tr>\n",
       "  </tbody>\n",
       "</table>\n",
       "</div>"
      ],
      "text/plain": [
       "    hizb  count_of_verses_per_hizb\n",
       "59    60                       288\n",
       "58    59                       276\n",
       "57    58                       225\n",
       "56    57                       206\n",
       "53    54                       203\n",
       "44    45                       200\n",
       "52    53                       196\n",
       "37    38                       172\n",
       "36    37                       167\n",
       "49    50                       162"
      ]
     },
     "execution_count": 43,
     "metadata": {},
     "output_type": "execute_result"
    }
   ],
   "source": [
    "\n",
    "top_10_hizb = hizb_number_of_verses.sort_values(by='count_of_verses_per_hizb',ascending=False).head(10)\n",
    "top_10_hizb"
   ]
  },
  {
   "cell_type": "code",
   "execution_count": 44,
   "id": "4f4c847a-00af-4243-9df0-c301206ee18f",
   "metadata": {
    "editable": true,
    "slideshow": {
     "slide_type": "fragment"
    },
    "tags": []
   },
   "outputs": [
    {
     "data": {
      "image/png": "[encoded data removed]",
      "text/plain": [
       "<Figure size 1000x600 with 1 Axes>"
      ]
     },
     "metadata": {},
     "output_type": "display_data"
    }
   ],
   "source": [
    "\n",
    "my_plot_func(\n",
    "    df=top_10_hizb,\n",
    "    x='hizb',\n",
    "    y='count_of_verses_per_hizb',\n",
    "    kind='barh',\n",
    "    color='mediumseagreen', # cool color: suggested by chatGPT \n",
    "    title='Top 10 Hizb with the Most Verses',\n",
    "    xlabel='Number of Verses',\n",
    "    ylabel='Hizb Number',\n",
    "    invert_axis=True\n",
    ")"
   ]
  },
  {
   "cell_type": "markdown",
   "id": "8d3a723b-38a3-4946-b052-9b039ebb07ad",
   "metadata": {
    "editable": true,
    "slideshow": {
     "slide_type": "skip"
    },
    "tags": []
   },
   "source": [
    "`this shows us that the later the chapters of the quran the more verses there are in the quran which is what we expect because we know as humans that the final chapters of the quran has shorter verses.`"
   ]
  },
  {
   "cell_type": "markdown",
   "id": "44db868c-7073-40c7-811e-da24d6e155ff",
   "metadata": {},
   "source": [
    "# Top 10 Juz's in the quran with the most verses ? "
   ]
  },
  {
   "cell_type": "code",
   "execution_count": 45,
   "id": "3ac5a358-b703-429e-a0d3-9a70eca5c4b8",
   "metadata": {},
   "outputs": [
    {
     "data": {
      "text/html": [
       "<div>\n",
       "<style scoped>\n",
       "    .dataframe tbody tr th:only-of-type {\n",
       "        vertical-align: middle;\n",
       "    }\n",
       "\n",
       "    .dataframe tbody tr th {\n",
       "        vertical-align: top;\n",
       "    }\n",
       "\n",
       "    .dataframe thead th {\n",
       "        text-align: right;\n",
       "    }\n",
       "</style>\n",
       "<table border=\"1\" class=\"dataframe\">\n",
       "  <thead>\n",
       "    <tr style=\"text-align: right;\">\n",
       "      <th></th>\n",
       "      <th>juz_no</th>\n",
       "      <th>verses_count</th>\n",
       "    </tr>\n",
       "  </thead>\n",
       "  <tbody>\n",
       "    <tr>\n",
       "      <th>0</th>\n",
       "      <td>30</td>\n",
       "      <td>564</td>\n",
       "    </tr>\n",
       "    <tr>\n",
       "      <th>1</th>\n",
       "      <td>29</td>\n",
       "      <td>431</td>\n",
       "    </tr>\n",
       "    <tr>\n",
       "      <th>2</th>\n",
       "      <td>27</td>\n",
       "      <td>399</td>\n",
       "    </tr>\n",
       "    <tr>\n",
       "      <th>3</th>\n",
       "      <td>23</td>\n",
       "      <td>357</td>\n",
       "    </tr>\n",
       "    <tr>\n",
       "      <th>4</th>\n",
       "      <td>19</td>\n",
       "      <td>339</td>\n",
       "    </tr>\n",
       "    <tr>\n",
       "      <th>5</th>\n",
       "      <td>16</td>\n",
       "      <td>269</td>\n",
       "    </tr>\n",
       "    <tr>\n",
       "      <th>6</th>\n",
       "      <td>25</td>\n",
       "      <td>246</td>\n",
       "    </tr>\n",
       "    <tr>\n",
       "      <th>7</th>\n",
       "      <td>14</td>\n",
       "      <td>227</td>\n",
       "    </tr>\n",
       "    <tr>\n",
       "      <th>8</th>\n",
       "      <td>18</td>\n",
       "      <td>202</td>\n",
       "    </tr>\n",
       "    <tr>\n",
       "      <th>9</th>\n",
       "      <td>26</td>\n",
       "      <td>195</td>\n",
       "    </tr>\n",
       "  </tbody>\n",
       "</table>\n",
       "</div>"
      ],
      "text/plain": [
       "   juz_no  verses_count\n",
       "0      30           564\n",
       "1      29           431\n",
       "2      27           399\n",
       "3      23           357\n",
       "4      19           339\n",
       "5      16           269\n",
       "6      25           246\n",
       "7      14           227\n",
       "8      18           202\n",
       "9      26           195"
      ]
     },
     "execution_count": 45,
     "metadata": {},
     "output_type": "execute_result"
    }
   ],
   "source": [
    "juz_verses_count = ( \n",
    "    df.groupby('juz_no')\n",
    "        .size()\n",
    "        .sort_values(ascending=False)\n",
    "        .head(10)\n",
    "        .reset_index()\n",
    ")\n",
    "juz_verses_count.columns = ['juz_no', 'verses_count']\n",
    "juz_verses_count"
   ]
  },
  {
   "cell_type": "code",
   "execution_count": 46,
   "id": "5b0adfbc-339f-45df-88d1-b19f997e59de",
   "metadata": {},
   "outputs": [
    {
     "data": {
      "image/png": "[encoded data removed]",
      "text/plain": [
       "<Figure size 1000x600 with 1 Axes>"
      ]
     },
     "metadata": {},
     "output_type": "display_data"
    }
   ],
   "source": [
    "my_plot_func(\n",
    "    df=juz_verses_count,\n",
    "    x='juz_no',\n",
    "    y='verses_count',\n",
    "    kind='barh',\n",
    "    color='skyblue',\n",
    "    title='Top 10 Juz\\'s with the Most Verses',\n",
    "    xlabel='Number of Verses',\n",
    "    ylabel='Juz Number',\n",
    "    invert_axis=True\n",
    ")"
   ]
  },
  {
   "cell_type": "markdown",
   "id": "b955b487-7cc7-4035-a1da-a37841adb70b",
   "metadata": {
    "editable": true,
    "slideshow": {
     "slide_type": "slide"
    },
    "tags": []
   },
   "source": [
    "## 10. What about the order in which the surahs of the HOLY Quran was revealed ? how long is the average words per ayah? "
   ]
  },
  {
   "cell_type": "code",
   "execution_count": 47,
   "id": "e80af434-893e-452a-907b-429c6721aab2",
   "metadata": {},
   "outputs": [],
   "source": [
    "# we are grouping by the revelation_order\n",
    "# then aggreating 2 functions for this groupby \n",
    "# the first aggregation is for getting only the first occurence for the \"total_ayah_surah\" using the function: \"first\"\n",
    "# the 2nd aggregated function is to sum the total words in each ayah for the whole surah using the column \"no_of_word_ayah\" and the function \"sum\"\n",
    "\n",
    "revelation_order_first_sum = df.groupby('revelation_order').agg({\n",
    "    'total_ayah_surah': 'first',\n",
    "    'no_of_word_ayah': 'sum'\n",
    "}).reset_index()"
   ]
  },
  {
   "cell_type": "code",
   "execution_count": 48,
   "id": "0dccf46c-1ebf-4b91-b8d7-485adee75ce7",
   "metadata": {
    "editable": true,
    "slideshow": {
     "slide_type": "fragment"
    },
    "tags": []
   },
   "outputs": [
    {
     "data": {
      "text/html": [
       "<div>\n",
       "<style scoped>\n",
       "    .dataframe tbody tr th:only-of-type {\n",
       "        vertical-align: middle;\n",
       "    }\n",
       "\n",
       "    .dataframe tbody tr th {\n",
       "        vertical-align: top;\n",
       "    }\n",
       "\n",
       "    .dataframe thead th {\n",
       "        text-align: right;\n",
       "    }\n",
       "</style>\n",
       "<table border=\"1\" class=\"dataframe\">\n",
       "  <thead>\n",
       "    <tr style=\"text-align: right;\">\n",
       "      <th></th>\n",
       "      <th>revelation_order</th>\n",
       "      <th>total_ayah_surah</th>\n",
       "      <th>no_of_word_ayah</th>\n",
       "      <th>avg_words_per_ayah</th>\n",
       "    </tr>\n",
       "  </thead>\n",
       "  <tbody>\n",
       "    <tr>\n",
       "      <th>0</th>\n",
       "      <td>1</td>\n",
       "      <td>19</td>\n",
       "      <td>73</td>\n",
       "      <td>3.842105</td>\n",
       "    </tr>\n",
       "    <tr>\n",
       "      <th>1</th>\n",
       "      <td>2</td>\n",
       "      <td>52</td>\n",
       "      <td>307</td>\n",
       "      <td>5.903846</td>\n",
       "    </tr>\n",
       "    <tr>\n",
       "      <th>2</th>\n",
       "      <td>3</td>\n",
       "      <td>20</td>\n",
       "      <td>213</td>\n",
       "      <td>10.650000</td>\n",
       "    </tr>\n",
       "    <tr>\n",
       "      <th>3</th>\n",
       "      <td>4</td>\n",
       "      <td>56</td>\n",
       "      <td>264</td>\n",
       "      <td>4.714286</td>\n",
       "    </tr>\n",
       "    <tr>\n",
       "      <th>4</th>\n",
       "      <td>5</td>\n",
       "      <td>7</td>\n",
       "      <td>29</td>\n",
       "      <td>4.142857</td>\n",
       "    </tr>\n",
       "    <tr>\n",
       "      <th>...</th>\n",
       "      <td>...</td>\n",
       "      <td>...</td>\n",
       "      <td>...</td>\n",
       "      <td>...</td>\n",
       "    </tr>\n",
       "    <tr>\n",
       "      <th>109</th>\n",
       "      <td>110</td>\n",
       "      <td>11</td>\n",
       "      <td>184</td>\n",
       "      <td>16.727273</td>\n",
       "    </tr>\n",
       "    <tr>\n",
       "      <th>110</th>\n",
       "      <td>111</td>\n",
       "      <td>29</td>\n",
       "      <td>600</td>\n",
       "      <td>20.689655</td>\n",
       "    </tr>\n",
       "    <tr>\n",
       "      <th>111</th>\n",
       "      <td>112</td>\n",
       "      <td>120</td>\n",
       "      <td>3014</td>\n",
       "      <td>25.116667</td>\n",
       "    </tr>\n",
       "    <tr>\n",
       "      <th>112</th>\n",
       "      <td>113</td>\n",
       "      <td>129</td>\n",
       "      <td>2667</td>\n",
       "      <td>20.674419</td>\n",
       "    </tr>\n",
       "    <tr>\n",
       "      <th>113</th>\n",
       "      <td>114</td>\n",
       "      <td>3</td>\n",
       "      <td>20</td>\n",
       "      <td>6.666667</td>\n",
       "    </tr>\n",
       "  </tbody>\n",
       "</table>\n",
       "<p>114 rows × 4 columns</p>\n",
       "</div>"
      ],
      "text/plain": [
       "     revelation_order  total_ayah_surah  no_of_word_ayah  avg_words_per_ayah\n",
       "0                   1                19               73            3.842105\n",
       "1                   2                52              307            5.903846\n",
       "2                   3                20              213           10.650000\n",
       "3                   4                56              264            4.714286\n",
       "4                   5                 7               29            4.142857\n",
       "..                ...               ...              ...                 ...\n",
       "109               110                11              184           16.727273\n",
       "110               111                29              600           20.689655\n",
       "111               112               120             3014           25.116667\n",
       "112               113               129             2667           20.674419\n",
       "113               114                 3               20            6.666667\n",
       "\n",
       "[114 rows x 4 columns]"
      ]
     },
     "execution_count": 48,
     "metadata": {},
     "output_type": "execute_result"
    }
   ],
   "source": [
    "revelation_order_first_sum['avg_words_per_ayah'] = revelation_order_first_sum['no_of_word_ayah'] / revelation_order_first_sum['total_ayah_surah']\n",
    "revelation_order_first_sum"
   ]
  },
  {
   "cell_type": "code",
   "execution_count": 55,
   "id": "d47e36b8-2795-46a7-904d-57455583dfae",
   "metadata": {
    "editable": true,
    "slideshow": {
     "slide_type": "fragment"
    },
    "tags": []
   },
   "outputs": [
    {
     "name": "stdout",
     "output_type": "stream",
     "text": [
      "Correlation? 0.6480070694846902\n"
     ]
    },
    {
     "data": {
      "image/png": "[encoded data removed]",
      "text/plain": [
       "<Figure size 1000x600 with 1 Axes>"
      ]
     },
     "metadata": {},
     "output_type": "display_data"
    }
   ],
   "source": [
    "# find the correlation if there is any, then build up the conclusion that you have based on the strength of the correlation \n",
    "# the correlation here is 0.648 which means there is a positive moderate strong relationship, so we have a strong scientific meteric \n",
    "# to prove we are not joking and the relationship actually exits based on the science \"العلم\"\n",
    "correlation = revelation_order_first_sum['revelation_order'].corr(revelation_order_first_sum['avg_words_per_ayah'])\n",
    "print(\"Correlation?\", correlation)\n",
    "\n",
    "# using the sns.regplot which: \n",
    "    # Plots a scatter plot of the data points\n",
    "    # plots a linear regression line { by default }\n",
    "    # shows the confidence interval around the regression line { you can turn it off or on based on your preference 😁 }\n",
    "plt.figure(figsize=(10,6))\n",
    "sns.regplot(x='revelation_order', y='avg_words_per_ayah', data=revelation_order_first_sum ) # add ci= None to turn it off\n",
    "plt.title('Surah Order vs. Average Ayah Length')\n",
    "plt.xlabel('Revelation Order (The actual order of when the surah\\'s was revealed)')\n",
    "plt.ylabel('Average Words per Ayah')\n",
    "plt.grid(True)\n",
    "plt.show()"
   ]
  },
  {
   "cell_type": "markdown",
   "id": "2f9a435c-d0f0-4745-9862-f0938610beaf",
   "metadata": {
    "editable": true,
    "slideshow": {
     "slide_type": "fragment"
    },
    "tags": []
   },
   "source": [
    "this is amazing, `the average words per ayah` vs `the actual order of revelation of surah` have a `Moderate to Strong Correlation of 0.648`"
   ]
  },
  {
   "cell_type": "markdown",
   "id": "b0ba9ca2-0124-4480-ad5f-84b5fee11b93",
   "metadata": {
    "editable": true,
    "slideshow": {
     "slide_type": "slide"
    },
    "tags": []
   },
   "source": [
    "## 11.\tAre there Juz’ that predominantly belong to either Meccan or Medinan Surahs?"
   ]
  },
  {
   "cell_type": "markdown",
   "id": "1bceba6f-740a-4a2e-af8e-1e9c7072efcb",
   "metadata": {
    "editable": true,
    "slideshow": {
     "slide_type": "fragment"
    },
    "tags": []
   },
   "source": [
    "`Juz` : `Number of Verses`"
   ]
  },
  {
   "cell_type": "code",
   "execution_count": 50,
   "id": "f0413703-e79e-4710-8810-e97722bee955",
   "metadata": {
    "editable": true,
    "slideshow": {
     "slide_type": "fragment"
    },
    "tags": []
   },
   "outputs": [
    {
     "data": {
      "text/plain": [
       "{1: 148,\n",
       " 2: 111,\n",
       " 3: 126,\n",
       " 4: 131,\n",
       " 5: 124,\n",
       " 6: 110,\n",
       " 7: 149,\n",
       " 8: 142,\n",
       " 9: 159,\n",
       " 10: 127}"
      ]
     },
     "execution_count": 50,
     "metadata": {},
     "output_type": "execute_result"
    }
   ],
   "source": [
    "\n",
    "df.groupby('juz_no').size().head(10).to_dict()"
   ]
  },
  {
   "cell_type": "markdown",
   "id": "6a40c5c8-3044-4216-8089-605fde3c011c",
   "metadata": {
    "editable": true,
    "slideshow": {
     "slide_type": "skip"
    },
    "tags": []
   },
   "source": [
    "`bring up this thing, then move on to explain what is the verses that are meccan and what verses are medinan and which is the dominant type`"
   ]
  },
  {
   "cell_type": "code",
   "execution_count": 51,
   "id": "cd90825e-599f-47e8-93b4-5042241d15a3",
   "metadata": {
    "editable": true,
    "slideshow": {
     "slide_type": "slide"
    },
    "tags": []
   },
   "outputs": [
    {
     "data": {
      "text/html": [
       "<div>\n",
       "<style scoped>\n",
       "    .dataframe tbody tr th:only-of-type {\n",
       "        vertical-align: middle;\n",
       "    }\n",
       "\n",
       "    .dataframe tbody tr th {\n",
       "        vertical-align: top;\n",
       "    }\n",
       "\n",
       "    .dataframe thead th {\n",
       "        text-align: right;\n",
       "    }\n",
       "</style>\n",
       "<table border=\"1\" class=\"dataframe\">\n",
       "  <thead>\n",
       "    <tr style=\"text-align: right;\">\n",
       "      <th>place_of_revelation</th>\n",
       "      <th>Meccan</th>\n",
       "      <th>Medinan</th>\n",
       "      <th>dominant_type</th>\n",
       "    </tr>\n",
       "    <tr>\n",
       "      <th>juz_no</th>\n",
       "      <th></th>\n",
       "      <th></th>\n",
       "      <th></th>\n",
       "    </tr>\n",
       "  </thead>\n",
       "  <tbody>\n",
       "    <tr>\n",
       "      <th>1</th>\n",
       "      <td>7</td>\n",
       "      <td>141</td>\n",
       "      <td>Medinan</td>\n",
       "    </tr>\n",
       "    <tr>\n",
       "      <th>2</th>\n",
       "      <td>0</td>\n",
       "      <td>111</td>\n",
       "      <td>Medinan</td>\n",
       "    </tr>\n",
       "    <tr>\n",
       "      <th>3</th>\n",
       "      <td>0</td>\n",
       "      <td>126</td>\n",
       "      <td>Medinan</td>\n",
       "    </tr>\n",
       "    <tr>\n",
       "      <th>4</th>\n",
       "      <td>0</td>\n",
       "      <td>131</td>\n",
       "      <td>Medinan</td>\n",
       "    </tr>\n",
       "    <tr>\n",
       "      <th>5</th>\n",
       "      <td>0</td>\n",
       "      <td>124</td>\n",
       "      <td>Medinan</td>\n",
       "    </tr>\n",
       "    <tr>\n",
       "      <th>6</th>\n",
       "      <td>0</td>\n",
       "      <td>110</td>\n",
       "      <td>Medinan</td>\n",
       "    </tr>\n",
       "    <tr>\n",
       "      <th>7</th>\n",
       "      <td>110</td>\n",
       "      <td>39</td>\n",
       "      <td>Meccan</td>\n",
       "    </tr>\n",
       "    <tr>\n",
       "      <th>8</th>\n",
       "      <td>142</td>\n",
       "      <td>0</td>\n",
       "      <td>Meccan</td>\n",
       "    </tr>\n",
       "    <tr>\n",
       "      <th>9</th>\n",
       "      <td>119</td>\n",
       "      <td>40</td>\n",
       "      <td>Meccan</td>\n",
       "    </tr>\n",
       "    <tr>\n",
       "      <th>10</th>\n",
       "      <td>0</td>\n",
       "      <td>127</td>\n",
       "      <td>Medinan</td>\n",
       "    </tr>\n",
       "  </tbody>\n",
       "</table>\n",
       "</div>"
      ],
      "text/plain": [
       "place_of_revelation  Meccan  Medinan dominant_type\n",
       "juz_no                                            \n",
       "1                         7      141       Medinan\n",
       "2                         0      111       Medinan\n",
       "3                         0      126       Medinan\n",
       "4                         0      131       Medinan\n",
       "5                         0      124       Medinan\n",
       "6                         0      110       Medinan\n",
       "7                       110       39        Meccan\n",
       "8                       142        0        Meccan\n",
       "9                       119       40        Meccan\n",
       "10                        0      127       Medinan"
      ]
     },
     "execution_count": 51,
     "metadata": {},
     "output_type": "execute_result"
    }
   ],
   "source": [
    "\n",
    "# .unstack(fill_value=0) creates a pivot table just like excel and i like how CHATGPT explained it:\n",
    "\"\"\"\n",
    "CHATGPT WORDS: \n",
    "This line creates a summary table (a “pivot table”) that shows how many verses were revealed in each place (Mecca/Medina) per Juz.\n",
    "It’s very useful for analyzing the distribution of revelation.\n",
    "\"\"\"\n",
    "# sorts by the juz_no and the place of revelation using the juz_no as the first sort, then if further sorting is needed \n",
    "# it sorts by the place of revelation 😊\n",
    "juz_revelation_counts = df.groupby(['juz_no', 'place_of_revelation']).size().unstack(fill_value=0)\n",
    "\n",
    "# which type is dominant ? mecca or medina ? \n",
    "# using the axis=1 to take the value from the column rather then returning the number which is axis=0 😆\n",
    "juz_revelation_counts['dominant_type'] = juz_revelation_counts.idxmax(axis=1)\n",
    "\n",
    "juz_revelation_counts[['Meccan', 'Medinan', 'dominant_type']].head(10)"
   ]
  },
  {
   "cell_type": "code",
   "execution_count": 52,
   "id": "a8e90971-57ec-43fd-9606-77d29b79a61a",
   "metadata": {
    "editable": true,
    "slideshow": {
     "slide_type": "subslide"
    },
    "tags": []
   },
   "outputs": [
    {
     "data": {
      "text/html": [
       "<div>\n",
       "<style scoped>\n",
       "    .dataframe tbody tr th:only-of-type {\n",
       "        vertical-align: middle;\n",
       "    }\n",
       "\n",
       "    .dataframe tbody tr th {\n",
       "        vertical-align: top;\n",
       "    }\n",
       "\n",
       "    .dataframe thead th {\n",
       "        text-align: right;\n",
       "    }\n",
       "</style>\n",
       "<table border=\"1\" class=\"dataframe\">\n",
       "  <thead>\n",
       "    <tr style=\"text-align: right;\">\n",
       "      <th></th>\n",
       "      <th>place_of_revelation</th>\n",
       "      <th>Number of Verses per Place</th>\n",
       "    </tr>\n",
       "  </thead>\n",
       "  <tbody>\n",
       "    <tr>\n",
       "      <th>0</th>\n",
       "      <td>Meccan</td>\n",
       "      <td>4613</td>\n",
       "    </tr>\n",
       "    <tr>\n",
       "      <th>1</th>\n",
       "      <td>Medinan</td>\n",
       "      <td>1623</td>\n",
       "    </tr>\n",
       "  </tbody>\n",
       "</table>\n",
       "</div>"
      ],
      "text/plain": [
       "  place_of_revelation  Number of Verses per Place\n",
       "0              Meccan                        4613\n",
       "1             Medinan                        1623"
      ]
     },
     "execution_count": 52,
     "metadata": {},
     "output_type": "execute_result"
    }
   ],
   "source": [
    "# just to remind ourseleves of the meccan/ medinan verses where they were revealed; very cool :)\n",
    "p = df.groupby('place_of_revelation').size().reset_index()\n",
    "p.columns = ['place_of_revelation', 'Number of Verses per Place']\n",
    "p"
   ]
  },
  {
   "cell_type": "markdown",
   "id": "b9221e35-a6b4-4b51-996d-577264eb5348",
   "metadata": {},
   "source": [
    "### THIS WORK MAY CONTAIN MISTAKES SO PLEASE INFORM ME ABOUT THEM IF YOU FIND ANY\n",
    "### AND ADD MORE TO IT, IT AN OPEN PROJECT FOR THOSE WHO ARE INTERSTED TO WORK WITH THIS HOLY BOOK \"THE QURAN\" "
   ]
  },
  {
   "cell_type": "markdown",
   "id": "3e5145ad-8f08-443c-901e-c10ec2bebc47",
   "metadata": {},
   "source": [
    "# Al-hamdulilah"
   ]
  },
  {
   "cell_type": "code",
   "execution_count": null,
   "id": "a6d3ec8f-17f6-48f2-b938-a9ed3a0065e2",
   "metadata": {},
   "outputs": [],
   "source": []
  }
 ],
 "metadata": {
  "kernelspec": {
   "display_name": "Python 3 (ipykernel)",
   "language": "python",
   "name": "python3"
  },
  "language_info": {
   "codemirror_mode": {
    "name": "ipython",
    "version": 3
   },
   "file_extension": ".py",
   "mimetype": "text/x-python",
   "name": "python",
   "nbconvert_exporter": "python",
   "pygments_lexer": "ipython3",
   "version": "3.12.0"
  }
 },
 "nbformat": 4,
 "nbformat_minor": 5
}
